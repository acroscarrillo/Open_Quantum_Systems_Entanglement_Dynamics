{
 "cells": [
  {
   "cell_type": "markdown",
   "metadata": {},
   "source": [
    "# 2 Spinless fermions with hopping: <br/> Dissipative entanglement dynamics\n",
    "\n",
    "\n",
    "\n",
    "\n",
    "## 1. Theory\n",
    "\n",
    "This model is given by a fermionic 2-site Hamiltonian with near site hopping and density-densiry interactions\n",
    "$$\n",
    "H = \\lambda (c_1^\\dagger c_2 + c_2^\\dagger c_1)+U n_1 n_2,\n",
    "$$\n",
    "with $\\lambda$ as the hopping strength and $U$ as the repulsion/attraction parameter. If we let the first site be under the influence of a bath the dynamics can be described, at least axiomatically, via the following Lindbland equation\n",
    "$$\n",
    "{\\displaystyle {\\dot {\\rho}(t)}=-{i}[\\lambda (c_1^\\dagger c_2 + c_2^\\dagger c_1)+U n_1 n_2,\\rho(t) ]+\\Gamma _{u}\\left(c_1^{\\dagger }\\rho(t) c_1-{\\frac {1}{2}}\\left\\{c_1 c_1^{\\dagger },\\rho(t) \\right\\}\\right) +\\Gamma _{d}\\left(c_1\\rho(t) c_1^{\\dagger }-{\\frac {1}{2}}\\left\\{c_1^{\\dagger }c_1,\\rho(t) \\right\\}\\right),}\n",
    "$$\n",
    "where $\\Gamma_u$ and $\\Gamma_d$ are the excitation and de-excitation rates respectively.\n",
    "## 2. Simulation\n",
    "\n",
    "The following sections of code perform numerically the above. "
   ]
  },
  {
   "cell_type": "markdown",
   "metadata": {},
   "source": [
    "### Some definitions first\n",
    "\n",
    "First lets import the relevant `QuTiP` packages and define suitable fermionic operators $c_i$ as `c(i)`:"
   ]
  },
  {
   "cell_type": "code",
   "execution_count": 1,
   "metadata": {},
   "outputs": [],
   "source": [
    "from IPython.display import Image\n",
    "from qutip import *\n",
    "import numpy as np\n",
    "from numpy import linalg as LA\n",
    "import matplotlib.pyplot as plt\n",
    "import ipywidgets as widgets\n",
    "from ipywidgets import interact, interactive, fixed, interact_manual\n",
    "\n",
    "\n",
    "L = 1\n",
    "lamb = 1\n",
    "U = 0.5\n",
    "\n",
    "def id():\n",
    "    op_list = []\n",
    "    for i in range(2*L):\n",
    "        op_list.append(qeye(2))\n",
    "    op = Qobj(tensor(op_list))\n",
    "    return op\n",
    "\n",
    "def sigma_z(k):\n",
    "    op_list = []\n",
    "    if k<=2*L-1 and k>=0:\n",
    "        for i in range(2*L):\n",
    "            if i==k:\n",
    "                op_list.append(sigmaz())\n",
    "            else:\n",
    "                op_list.append(qeye(2))\n",
    "        op = Qobj(tensor(op_list))\n",
    "        return op\n",
    "\n",
    "    else:\n",
    "        raise ValueError(\"Index out of range: Operator sigma_z_\"+str(k)+\" may not be casted in a system with \"+str(2*L)+\" spins. By convention first spin is labeled as 0.\")\n",
    "\n",
    "def c(k):\n",
    "    if k<=2*L-1 and k>=0:\n",
    "        op_list = []\n",
    "        for i in range(2*L):\n",
    "            if i==k:\n",
    "                op_list.append(destroy(2))\n",
    "            else:\n",
    "                op_list.append(qeye(2))\n",
    "        aux = Qobj(tensor(op_list))\n",
    "        phase = Qobj(tensor([qeye(2)]*(2*L)))\n",
    "        for i in range(0,k):\n",
    "            phase = phase*sigma_z(i)\n",
    "        op = phase*aux\n",
    "        return op\n",
    "\n",
    "    else:\n",
    "        raise ValueError(\"Index out of range: Operator c_\"+str(k)+\" may not be casted in a system with \"+str(2*L)+\" spins. By convention first spin is labeled as 0.\")"
   ]
  },
  {
   "cell_type": "markdown",
   "metadata": {},
   "source": [
    "### Matrix representation of $H$\n",
    "\n",
    "In the original fermionic basis $c_i$ the Hamiltonian of the two fermion system takes the form "
   ]
  },
  {
   "cell_type": "code",
   "execution_count": 2,
   "metadata": {
    "scrolled": true
   },
   "outputs": [
    {
     "data": {
      "text/latex": [
       "Quantum object: dims = [[2, 2], [2, 2]], shape = (4, 4), type = oper, isherm = True\\begin{equation*}\\left(\\begin{array}{*{11}c}0.0 & 0.0 & 0.0 & 0.0\\\\0.0 & 0.0 & 1.0 & 0.0\\\\0.0 & 1.0 & 0.0 & 0.0\\\\0.0 & 0.0 & 0.0 & 0.500\\\\\\end{array}\\right)\\end{equation*}"
      ],
      "text/plain": [
       "Quantum object: dims = [[2, 2], [2, 2]], shape = (4, 4), type = oper, isherm = True\n",
       "Qobj data =\n",
       "[[0.  0.  0.  0. ]\n",
       " [0.  0.  1.  0. ]\n",
       " [0.  1.  0.  0. ]\n",
       " [0.  0.  0.  0.5]]"
      ]
     },
     "execution_count": 2,
     "metadata": {},
     "output_type": "execute_result"
    }
   ],
   "source": [
    "H = lamb*(c(1).dag()*c(0) + c(0).dag()*c(1)) + U*c(0).dag()*c(0)*c(1).dag()*c(1)\n",
    "H"
   ]
  },
  {
   "cell_type": "code",
   "execution_count": 3,
   "metadata": {},
   "outputs": [
    {
     "data": {
      "text/plain": [
       "array([Quantum object: dims = [[2, 2], [1, 1]], shape = (4, 1), type = ket\n",
       "Qobj data =\n",
       "[[ 0.        ]\n",
       " [ 0.70710678]\n",
       " [-0.70710678]\n",
       " [ 0.        ]],\n",
       "       Quantum object: dims = [[2, 2], [1, 1]], shape = (4, 1), type = ket\n",
       "Qobj data =\n",
       "[[1.]\n",
       " [0.]\n",
       " [0.]\n",
       " [0.]],\n",
       "       Quantum object: dims = [[2, 2], [1, 1]], shape = (4, 1), type = ket\n",
       "Qobj data =\n",
       "[[0.]\n",
       " [0.]\n",
       " [0.]\n",
       " [1.]],\n",
       "       Quantum object: dims = [[2, 2], [1, 1]], shape = (4, 1), type = ket\n",
       "Qobj data =\n",
       "[[0.        ]\n",
       " [0.70710678]\n",
       " [0.70710678]\n",
       " [0.        ]]], dtype=object)"
      ]
     },
     "execution_count": 3,
     "metadata": {},
     "output_type": "execute_result"
    }
   ],
   "source": [
    "E,V = H.eigenstates()\n",
    "V"
   ]
  },
  {
   "cell_type": "markdown",
   "metadata": {},
   "source": [
    "If we define \"diagonal\" fermionic operators $f_j$ the $H$ becomes diagonal with eigenvalues $\\{0,-\\lambda,\\lambda, 0\\}$"
   ]
  },
  {
   "cell_type": "code",
   "execution_count": 4,
   "metadata": {},
   "outputs": [
    {
     "data": {
      "text/latex": [
       "Quantum object: dims = [[2, 2], [2, 2]], shape = (4, 4), type = oper, isherm = True\\begin{equation*}\\left(\\begin{array}{*{11}c}0.0 & 0.0 & 0.0 & 0.0\\\\0.0 & -1.000 & 0.0 & 0.0\\\\0.0 & 0.0 & 1.000 & 0.0\\\\0.0 & 0.0 & 0.0 & 0.0\\\\\\end{array}\\right)\\end{equation*}"
      ],
      "text/plain": [
       "Quantum object: dims = [[2, 2], [2, 2]], shape = (4, 4), type = oper, isherm = True\n",
       "Qobj data =\n",
       "[[ 0.  0.  0.  0.]\n",
       " [ 0. -1.  0.  0.]\n",
       " [ 0.  0.  1.  0.]\n",
       " [ 0.  0.  0.  0.]]"
      ]
     },
     "execution_count": 4,
     "metadata": {},
     "output_type": "execute_result"
    }
   ],
   "source": [
    "f_0 = (c(0)+c(1))/np.sqrt(2)\n",
    "f_1 = (c(0)-c(1))/np.sqrt(2)\n",
    "H_f = lamb*(f_1.dag()*f_0 + f_0.dag()*f_1)\n",
    "H_f"
   ]
  },
  {
   "cell_type": "markdown",
   "metadata": {},
   "source": [
    "### Eigenstates of $H$\n",
    "\n",
    "The eigenstates of $H$ in the $c_j$ basis are given by acting with $f_j$ on $|0\\rangle$, i.e."
   ]
  },
  {
   "cell_type": "code",
   "execution_count": 5,
   "metadata": {
    "scrolled": false
   },
   "outputs": [
    {
     "data": {
      "text/latex": [
       "Quantum object: dims = [[2, 2], [1, 1]], shape = (4, 1), type = ket\\begin{equation*}\\left(\\begin{array}{*{11}c}0.0\\\\0.707\\\\0.707\\\\0.0\\\\\\end{array}\\right)\\end{equation*}"
      ],
      "text/plain": [
       "Quantum object: dims = [[2, 2], [1, 1]], shape = (4, 1), type = ket\n",
       "Qobj data =\n",
       "[[0.        ]\n",
       " [0.70710678]\n",
       " [0.70710678]\n",
       " [0.        ]]"
      ]
     },
     "execution_count": 5,
     "metadata": {},
     "output_type": "execute_result"
    }
   ],
   "source": [
    "f_0.dag()*ket(\"00\")"
   ]
  },
  {
   "cell_type": "markdown",
   "metadata": {},
   "source": [
    "which corresponds to the bell state $\\frac{|10\\rangle +|01\\rangle}{\\sqrt{2}}$. The above state in the diagonal basis $f_j$ is simply a basis element"
   ]
  },
  {
   "cell_type": "code",
   "execution_count": 6,
   "metadata": {},
   "outputs": [
    {
     "data": {
      "text/latex": [
       "Quantum object: dims = [[2, 2], [1, 1]], shape = (4, 1), type = ket\\begin{equation*}\\left(\\begin{array}{*{11}c}0.0\\\\0.0\\\\1.0\\\\0.0\\\\\\end{array}\\right)\\end{equation*}"
      ],
      "text/plain": [
       "Quantum object: dims = [[2, 2], [1, 1]], shape = (4, 1), type = ket\n",
       "Qobj data =\n",
       "[[0.]\n",
       " [0.]\n",
       " [1.]\n",
       " [0.]]"
      ]
     },
     "execution_count": 6,
     "metadata": {},
     "output_type": "execute_result"
    }
   ],
   "source": [
    "c(0).dag()*ket(\"00\")"
   ]
  },
  {
   "cell_type": "markdown",
   "metadata": {},
   "source": [
    "### Negativity method"
   ]
  },
  {
   "cell_type": "code",
   "execution_count": 7,
   "metadata": {},
   "outputs": [],
   "source": [
    "def E_N_by_L(dm,AB,A):\n",
    "    if len(AB)/(2*L) < 1:\n",
    "        rho_ab = (dm).ptrace(sel = AB,sparse=False)\n",
    "    if len(AB)/(2*L) == 1:\n",
    "        rho_ab = Qobj(tensor([Qobj(np.zeros((2,2)))]*(2*L)))\n",
    "        rho_ab += dm  #v*v.dag()\n",
    "    elif len(AB)/(2*L) > 1:\n",
    "        raise ValueError(\"Input error: partial trace must take a subsystem NOT larger than system.\")\n",
    "\n",
    "    rho_p = partial_transpose(rho_ab,A) #hand checked for 8*8 matrix\n",
    "\n",
    "    del(rho_ab)\n",
    "    lam = rho_p.eigenenergies()\n",
    "    del(rho_p)\n",
    "    lam_neg_sum = 0.0\n",
    "    for r in range(len(lam)):\n",
    "        lam_neg_sum += 0.5*(abs(lam[r])-lam[r])\n",
    "    # print(lam_neg_sum)\n",
    "    log_neg = np.log(2*lam_neg_sum+1)\n",
    "    return log_neg/(2*L)"
   ]
  },
  {
   "cell_type": "markdown",
   "metadata": {},
   "source": [
    "### Simulation\n",
    "\n",
    "The code below is computed in the original $c_j$ basis as the negativity will be calculated in that basis"
   ]
  },
  {
   "cell_type": "code",
   "execution_count": 10,
   "metadata": {},
   "outputs": [
    {
     "data": {
      "application/vnd.jupyter.widget-view+json": {
       "model_id": "31dfddee855e4c1da7e44c552a9bfd67",
       "version_major": 2,
       "version_minor": 0
      },
      "text/plain": [
       "interactive(children=(IntSlider(value=2, description='in_state', max=3), FloatSlider(value=1.0, description='l…"
      ]
     },
     "metadata": {},
     "output_type": "display_data"
    }
   ],
   "source": [
    "AB = [0,1]\n",
    "A =  [0,1]\n",
    "\n",
    "def negativity(in_state,lamb,U, gamma_u,gamma_d,t_f,t_steps,disp):\n",
    "    H = lamb*(c(1).dag()*c(0) + c(0).dag()*c(1)) + U*c(0).dag()*c(0)*c(1).dag()*c(1)\n",
    "    \n",
    "    E,V = H.eigenstates()      # Eigenstates\n",
    "    \n",
    "    rho_0 = V[in_state]*V[in_state].dag()             # choose eigenstate\n",
    "    \n",
    "    c_ops = [gamma_d*c(0),gamma_u*c(0).dag()]         # Collapse operators affecting only first fermion\n",
    "\n",
    "    time_array = np.linspace(0.0, t_f, t_steps)       # time array for numerical solver\n",
    "    rho_t = mesolve(H, rho_0, time_array, c_ops)\n",
    "    \n",
    "    neg = []\n",
    "    for state in rho_t.states:\n",
    "        neg.append(E_N_by_L(state,AB,A))\n",
    "    \n",
    "    plt.plot(time_array, neg, label=\"state in = \"+str(np.real(V[in_state].dag().full())));\n",
    "    plt.xlabel('t');\n",
    "    plt.ylabel(r'$E_N/L$');\n",
    "    plt.legend();\n",
    "    \n",
    "    if disp == 1:\n",
    "        np.set_printoptions(precision=2)\n",
    "        print(\"The initial state is:\")\n",
    "        print(np.around(rho_t.states[0], decimals=1))\n",
    "        print(\"The final state is:\")\n",
    "        print(np.around(rho_t.states[len(rho_t.states)-1], decimals=2))\n",
    "        print(\"Other parameters:\"+\"lamb = \" +str(lamb)+\", Gamma_u = \"+str(gamma_u)+\", Gamma_d = \"+str(gamma_d))\n",
    "    \n",
    "# warnings.filterwarnings('ignore')\n",
    "interact(negativity, lamb=widgets.FloatSlider(value=1,min=-5,max=5,step=0.5),U=widgets.FloatSlider(value=1,min=-5,max=5,step=0.5), gamma_u=widgets.FloatSlider(value=1,min=0,max=10,step=0.5),gamma_d=widgets.FloatSlider(value=1,min=0,max=10,step=0.5),t_f=widgets.FloatSlider(value=4,min=1,max=10,step=0.1),t_steps=widgets.IntSlider(value=200,min=10,max=1000,step=10),in_state=widgets.IntSlider(value=2**L,min=0,max=4**L-1,step=1),disp=widgets.IntSlider(value=1,min=0,max=1,step=1));"
   ]
  },
  {
   "cell_type": "markdown",
   "metadata": {},
   "source": [
    "# Qualitative behavior of the model\n",
    "\n",
    "\n",
    "* Entanglement peaks DO NOT occur if both sites are bathed only if ONE site is bathed. This implies it is the enviroment's interaction with the system the creator of the entanglement peaks. If no bathing at all entanglement obviously remains the same. If both sites are bathed entanglement only decreases (as seen before).\n",
    "* The width of the peak is governed MAINLY by $\\lambda$. This is intuitively clear, $\\lambda$ modulates the hopping of particles, hence if entanglement is created by the bath, how its effects are more or less noticeable on the other site depend exclusively on $\\lambda$. The width of the peak ALSO depends, although a bit less, on $\\Gamma_u$ and $\\Gamma_d$. This is also expected as it is the bath that creates the entanglement in the peaks anyways so the strength of the bath must play a role in the shape of the peak.\n",
    "* The height of the peak depends MAINLY on $\\Gamma_u$ and $\\Gamma_d$. However a secondary role is also played by $\\lambda$.\n",
    "* The cat states entanglement are COMPLETELY independent of $\\lambda$ in any way. They are maximally entangled so we expect no peaks initially and taking a monagamy POV the bathed site is interacting with the bath and getting entangled fast with the enviroment so the entanglement shared with the other site must also decrease fast.\n",
    "* Cat state decays linearly when $\\Gamma_u = \\Gamma_d$. If either $\\Gamma_u$ or $\\Gamma_d$ are $0$ the entanglement in the cat state decays \"exponentially\" smoothly."
   ]
  },
  {
   "cell_type": "markdown",
   "metadata": {},
   "source": [
    "## Some characteristic plots and their parameters\n",
    "\n",
    "### Independence of $\\lambda$ for initial cat state"
   ]
  },
  {
   "cell_type": "code",
   "execution_count": 9,
   "metadata": {
    "scrolled": true
   },
   "outputs": [
    {
     "ename": "TypeError",
     "evalue": "negativity() missing 1 required positional argument: 'U'",
     "output_type": "error",
     "traceback": [
      "\u001b[0;31m---------------------------------------------------------------------------\u001b[0m",
      "\u001b[0;31mTypeError\u001b[0m                                 Traceback (most recent call last)",
      "\u001b[0;32m<ipython-input-9-de8db37b3591>\u001b[0m in \u001b[0;36m<module>\u001b[0;34m\u001b[0m\n\u001b[0;32m----> 1\u001b[0;31m \u001b[0mnegativity\u001b[0m\u001b[0;34m(\u001b[0m\u001b[0min_state\u001b[0m \u001b[0;34m=\u001b[0m \u001b[0;36m1\u001b[0m\u001b[0;34m,\u001b[0m\u001b[0mlamb\u001b[0m \u001b[0;34m=\u001b[0m \u001b[0;36m1\u001b[0m\u001b[0;34m,\u001b[0m\u001b[0mgamma_u\u001b[0m \u001b[0;34m=\u001b[0m \u001b[0;36m1\u001b[0m\u001b[0;34m,\u001b[0m\u001b[0mgamma_d\u001b[0m \u001b[0;34m=\u001b[0m \u001b[0;36m1\u001b[0m\u001b[0;34m,\u001b[0m\u001b[0mt_f\u001b[0m \u001b[0;34m=\u001b[0m \u001b[0;36m4\u001b[0m\u001b[0;34m,\u001b[0m\u001b[0mt_steps\u001b[0m \u001b[0;34m=\u001b[0m \u001b[0;36m200\u001b[0m\u001b[0;34m,\u001b[0m\u001b[0mdisp\u001b[0m\u001b[0;34m=\u001b[0m\u001b[0;36m0\u001b[0m\u001b[0;34m)\u001b[0m\u001b[0;34m;\u001b[0m\u001b[0;34m\u001b[0m\u001b[0;34m\u001b[0m\u001b[0m\n\u001b[0m\u001b[1;32m      2\u001b[0m \u001b[0mnegativity\u001b[0m\u001b[0;34m(\u001b[0m\u001b[0min_state\u001b[0m \u001b[0;34m=\u001b[0m \u001b[0;36m1\u001b[0m\u001b[0;34m,\u001b[0m\u001b[0mlamb\u001b[0m \u001b[0;34m=\u001b[0m \u001b[0;36m0\u001b[0m\u001b[0;34m,\u001b[0m\u001b[0mgamma_u\u001b[0m \u001b[0;34m=\u001b[0m \u001b[0;36m1\u001b[0m\u001b[0;34m,\u001b[0m\u001b[0mgamma_d\u001b[0m \u001b[0;34m=\u001b[0m \u001b[0;36m1\u001b[0m\u001b[0;34m,\u001b[0m\u001b[0mt_f\u001b[0m \u001b[0;34m=\u001b[0m \u001b[0;36m4\u001b[0m\u001b[0;34m,\u001b[0m\u001b[0mt_steps\u001b[0m \u001b[0;34m=\u001b[0m \u001b[0;36m200\u001b[0m\u001b[0;34m,\u001b[0m\u001b[0mdisp\u001b[0m\u001b[0;34m=\u001b[0m\u001b[0;36m0\u001b[0m\u001b[0;34m)\u001b[0m\u001b[0;34m;\u001b[0m\u001b[0;34m\u001b[0m\u001b[0;34m\u001b[0m\u001b[0m\n\u001b[1;32m      3\u001b[0m \u001b[0mnegativity\u001b[0m\u001b[0;34m(\u001b[0m\u001b[0min_state\u001b[0m \u001b[0;34m=\u001b[0m \u001b[0;36m1\u001b[0m\u001b[0;34m,\u001b[0m\u001b[0mlamb\u001b[0m \u001b[0;34m=\u001b[0m \u001b[0;36m10\u001b[0m\u001b[0;34m,\u001b[0m\u001b[0mgamma_u\u001b[0m \u001b[0;34m=\u001b[0m \u001b[0;36m1\u001b[0m\u001b[0;34m,\u001b[0m\u001b[0mgamma_d\u001b[0m \u001b[0;34m=\u001b[0m \u001b[0;36m1\u001b[0m\u001b[0;34m,\u001b[0m\u001b[0mt_f\u001b[0m \u001b[0;34m=\u001b[0m \u001b[0;36m4\u001b[0m\u001b[0;34m,\u001b[0m\u001b[0mt_steps\u001b[0m \u001b[0;34m=\u001b[0m \u001b[0;36m200\u001b[0m\u001b[0;34m,\u001b[0m\u001b[0mdisp\u001b[0m\u001b[0;34m=\u001b[0m\u001b[0;36m0\u001b[0m\u001b[0;34m)\u001b[0m\u001b[0;34m;\u001b[0m\u001b[0;34m\u001b[0m\u001b[0;34m\u001b[0m\u001b[0m\n\u001b[1;32m      4\u001b[0m \u001b[0mnegativity\u001b[0m\u001b[0;34m(\u001b[0m\u001b[0min_state\u001b[0m \u001b[0;34m=\u001b[0m \u001b[0;36m1\u001b[0m\u001b[0;34m,\u001b[0m\u001b[0mlamb\u001b[0m \u001b[0;34m=\u001b[0m \u001b[0;34m-\u001b[0m\u001b[0;36m1\u001b[0m\u001b[0;34m,\u001b[0m\u001b[0mgamma_u\u001b[0m \u001b[0;34m=\u001b[0m \u001b[0;36m1\u001b[0m\u001b[0;34m,\u001b[0m\u001b[0mgamma_d\u001b[0m \u001b[0;34m=\u001b[0m \u001b[0;36m1\u001b[0m\u001b[0;34m,\u001b[0m\u001b[0mt_f\u001b[0m \u001b[0;34m=\u001b[0m \u001b[0;36m4\u001b[0m\u001b[0;34m,\u001b[0m\u001b[0mt_steps\u001b[0m \u001b[0;34m=\u001b[0m \u001b[0;36m200\u001b[0m\u001b[0;34m,\u001b[0m\u001b[0mdisp\u001b[0m\u001b[0;34m=\u001b[0m\u001b[0;36m0\u001b[0m\u001b[0;34m)\u001b[0m\u001b[0;34m;\u001b[0m\u001b[0;34m\u001b[0m\u001b[0;34m\u001b[0m\u001b[0m\n\u001b[1;32m      5\u001b[0m \u001b[0mnegativity\u001b[0m\u001b[0;34m(\u001b[0m\u001b[0min_state\u001b[0m \u001b[0;34m=\u001b[0m \u001b[0;36m1\u001b[0m\u001b[0;34m,\u001b[0m\u001b[0mlamb\u001b[0m \u001b[0;34m=\u001b[0m \u001b[0;34m-\u001b[0m\u001b[0;36m10\u001b[0m\u001b[0;34m,\u001b[0m\u001b[0mgamma_u\u001b[0m \u001b[0;34m=\u001b[0m \u001b[0;36m1\u001b[0m\u001b[0;34m,\u001b[0m\u001b[0mgamma_d\u001b[0m \u001b[0;34m=\u001b[0m \u001b[0;36m1\u001b[0m\u001b[0;34m,\u001b[0m\u001b[0mt_f\u001b[0m \u001b[0;34m=\u001b[0m \u001b[0;36m4\u001b[0m\u001b[0;34m,\u001b[0m\u001b[0mt_steps\u001b[0m \u001b[0;34m=\u001b[0m \u001b[0;36m200\u001b[0m\u001b[0;34m,\u001b[0m\u001b[0mdisp\u001b[0m\u001b[0;34m=\u001b[0m\u001b[0;36m0\u001b[0m\u001b[0;34m)\u001b[0m\u001b[0;34m;\u001b[0m\u001b[0;34m\u001b[0m\u001b[0;34m\u001b[0m\u001b[0m\n",
      "\u001b[0;31mTypeError\u001b[0m: negativity() missing 1 required positional argument: 'U'"
     ]
    }
   ],
   "source": [
    "negativity(in_state = 1,lamb = 1,gamma_u = 1,gamma_d = 1,t_f = 4,t_steps = 200,disp=0);\n",
    "negativity(in_state = 1,lamb = 0,gamma_u = 1,gamma_d = 1,t_f = 4,t_steps = 200,disp=0);\n",
    "negativity(in_state = 1,lamb = 10,gamma_u = 1,gamma_d = 1,t_f = 4,t_steps = 200,disp=0);\n",
    "negativity(in_state = 1,lamb = -1,gamma_u = 1,gamma_d = 1,t_f = 4,t_steps = 200,disp=0);\n",
    "negativity(in_state = 1,lamb = -10,gamma_u = 1,gamma_d = 1,t_f = 4,t_steps = 200,disp=0);"
   ]
  },
  {
   "cell_type": "markdown",
   "metadata": {},
   "source": [
    "### Peak width (lineal?) dependence on $\\lambda$ for initial basis state\n",
    "\n",
    "$\\lambda = 1/2$"
   ]
  },
  {
   "cell_type": "code",
   "execution_count": null,
   "metadata": {
    "scrolled": true
   },
   "outputs": [],
   "source": [
    "negativity(in_state = 0,lamb = 0.5,gamma_u = 1,gamma_d = 1,t_f = 2,t_steps = 200,disp=0);"
   ]
  },
  {
   "cell_type": "markdown",
   "metadata": {},
   "source": [
    "$\\lambda = 1$"
   ]
  },
  {
   "cell_type": "code",
   "execution_count": null,
   "metadata": {
    "scrolled": true
   },
   "outputs": [],
   "source": [
    "negativity(in_state = 0,lamb = 1,gamma_u = 1,gamma_d = 1,t_f = 2,t_steps = 200,disp=0);"
   ]
  },
  {
   "cell_type": "markdown",
   "metadata": {},
   "source": [
    "$\\lambda = 2$"
   ]
  },
  {
   "cell_type": "code",
   "execution_count": null,
   "metadata": {
    "scrolled": true
   },
   "outputs": [],
   "source": [
    "negativity(in_state = 0,lamb = 2,gamma_u = 1,gamma_d = 1,t_f = 2,t_steps = 200,disp=0);"
   ]
  },
  {
   "cell_type": "markdown",
   "metadata": {},
   "source": [
    "**Notice also the slight dependence of the peak height on $\\lambda$.**\n",
    "\n",
    "### Peak height and width dependence on $\\Gamma = \\Gamma_u=\\Gamma_d$ for initial basis state\n",
    "\n",
    "$\\Gamma = 1/2$"
   ]
  },
  {
   "cell_type": "code",
   "execution_count": null,
   "metadata": {},
   "outputs": [],
   "source": [
    "negativity(in_state = 0,lamb = 1,gamma_u = 0.5,gamma_d = 0.5,t_f = 2,t_steps = 200,disp=0);"
   ]
  },
  {
   "cell_type": "markdown",
   "metadata": {},
   "source": [
    "$\\Gamma = 1$"
   ]
  },
  {
   "cell_type": "code",
   "execution_count": null,
   "metadata": {},
   "outputs": [],
   "source": [
    "negativity(in_state = 0,lamb = 1,gamma_u = 1,gamma_d = 1,t_f = 2,t_steps = 200,disp=0);"
   ]
  },
  {
   "cell_type": "markdown",
   "metadata": {},
   "source": [
    "$\\Gamma = 2$"
   ]
  },
  {
   "cell_type": "code",
   "execution_count": null,
   "metadata": {},
   "outputs": [],
   "source": [
    "negativity(in_state = 0,lamb = 1,gamma_u = 2,gamma_d = 2,t_f = 2,t_steps = 200,disp=0);"
   ]
  },
  {
   "cell_type": "markdown",
   "metadata": {},
   "source": [
    "**Notice also the dependence of the peak width on $\\Gamma$.**\n",
    "\n",
    "### Peak height and width dependence on $\\Gamma_u \\neq \\Gamma_d$ for initial basis state\n",
    "\n",
    "Here is where we see a big big height dependance\n",
    "\n",
    "$\\Gamma_u = 2, \\Gamma_d = 2$"
   ]
  },
  {
   "cell_type": "code",
   "execution_count": null,
   "metadata": {},
   "outputs": [],
   "source": [
    "negativity(in_state = 0,lamb = 1,gamma_u = 2,gamma_d = 2,t_f = 2,t_steps = 200,disp=0);"
   ]
  },
  {
   "cell_type": "markdown",
   "metadata": {},
   "source": [
    "$\\Gamma_u = 2, \\Gamma_d = 1$"
   ]
  },
  {
   "cell_type": "code",
   "execution_count": null,
   "metadata": {},
   "outputs": [],
   "source": [
    "negativity(in_state = 0,lamb = 1,gamma_u = 2,gamma_d = 1,t_f = 4,t_steps = 200,disp=0);"
   ]
  },
  {
   "cell_type": "markdown",
   "metadata": {},
   "source": [
    "$\\Gamma_u = 2, \\Gamma_d = 1/2$"
   ]
  },
  {
   "cell_type": "code",
   "execution_count": null,
   "metadata": {},
   "outputs": [],
   "source": [
    "negativity(in_state = 0,lamb = 1,gamma_u = 2,gamma_d = 0.5,t_f = 4,t_steps = 200,disp=0);"
   ]
  },
  {
   "cell_type": "markdown",
   "metadata": {},
   "source": [
    "$\\Gamma_u = 2, \\Gamma_d = 0$"
   ]
  },
  {
   "cell_type": "code",
   "execution_count": null,
   "metadata": {
    "scrolled": false
   },
   "outputs": [],
   "source": [
    "negativity(in_state = 0,lamb = 1,gamma_u = 2,gamma_d = 0,t_f = 4,t_steps = 200,disp=1);"
   ]
  },
  {
   "cell_type": "markdown",
   "metadata": {},
   "source": [
    "Note the deseapperance of the apparent non smooth kink at the end of in the previous peak and compare it to the previous plots."
   ]
  },
  {
   "cell_type": "markdown",
   "metadata": {},
   "source": [
    "# Entanglement production mechanism\n",
    "\n",
    "Take for instance the following parameters $\\lambda = 1,\\Gamma_u = 0, \\Gamma_d = 2$ with initial density matrix\n",
    "$$\n",
    "\\rho (t=0) = \\begin{bmatrix}\n",
    "    0 & 0 & 0 & 0 \\\\\n",
    "    0 & 0 & 0 & 0 \\\\\n",
    "    0 & 0 & 0 & 0 \\\\\n",
    "    0 & 0 & 0 & 1 \n",
    "\\end{bmatrix}.\n",
    "$$\n",
    "We know that the final state must, and in fact is, given by\n",
    "$$\n",
    "\\rho (t=\\infty) = \\begin{bmatrix}\n",
    "    1 & 0 & 0 & 0 \\\\\n",
    "    0 & 0 & 0 & 0 \\\\\n",
    "    0 & 0 & 0 & 0 \\\\\n",
    "    0 & 0 & 0 & 0 \n",
    "\\end{bmatrix},\n",
    "$$\n",
    "but in between there must be something else connecting the two states (smoothly). We see that near $t\\sim 1$, approximately the middle of the peak, the density matrix is\n",
    "$$\n",
    "\\rho (t = 1) = \\begin{bmatrix}\n",
    "    0.199 & 0 & 0 & 0 \\\\\n",
    "    0 & 0.665 & 0.271 i & 0 \\\\\n",
    "    0 & -0.271 i & 0.116 & 0 \\\\\n",
    "    0 & 0 & 0 & 0.019 \n",
    "\\end{bmatrix},\n",
    "$$\n",
    "which is quite an entangled state, c.f. the cat state\n",
    "$$\n",
    "cat = \\begin{bmatrix}\n",
    "    0 & 0 & 0 & 0 \\\\\n",
    "    0 & 1/2 & 1/2 & 0 \\\\\n",
    "    0 & 1/2 & 1/2 & 0 \\\\\n",
    "    0 & 0 & 0 & 0 \n",
    "\\end{bmatrix}.\n",
    "$$\n",
    "This makes sense: if we start at the basis state \n",
    "$$\n",
    "\\rho (t=0) = \\begin{bmatrix}\n",
    "    0 & 0 & 0 & 0 \\\\\n",
    "    0 & 0 & 0 & 0 \\\\\n",
    "    0 & 0 & 0 & 0 \\\\\n",
    "    0 & 0 & 0 & 1 \n",
    "\\end{bmatrix},\n",
    "$$\n",
    "then the system has nothing to evolve (it's already its steady state) and it will remain like that forever without passing through any entangled states.\n",
    "\n",
    "## State's matrix dynamics anymation"
   ]
  },
  {
   "cell_type": "code",
   "execution_count": null,
   "metadata": {},
   "outputs": [],
   "source": [
    "t_steps = 200\n",
    "def negativity(in_state,lamb,gamma_u,gamma_d,t_f,t):\n",
    "    H = lamb*(c(0).dag()*c(1)+c(1).dag()*c(0))\n",
    "    \n",
    "    V = [ket(\"00\"),f_0.dag()*ket(\"00\"),f_1.dag()*ket(\"00\"),f_0.dag()*f_1.dag()*ket(\"00\")]      # Eigenstates\n",
    "    \n",
    "    rho_0 = V[in_state]*V[in_state].dag()             # choose eigenstate\n",
    "    \n",
    "    c_ops = [gamma_d*c(0),gamma_u*c(0).dag()]         # Collapse operators affecting only first fermion\n",
    "\n",
    "    time_array = np.linspace(0.0, t_f, t_steps)       # time array for numerical solver\n",
    "    rho_t = mesolve(H, rho_0, time_array, c_ops)\n",
    "    \n",
    "    print(rho_t.states[t])\n",
    "# warnings.filterwarnings('ignore')\n",
    "interact(negativity, lamb=widgets.FloatSlider(value=1,min=-5,max=5,step=0.5), gamma_u=widgets.FloatSlider(value=1,min=0,max=10,step=0.5),gamma_d=widgets.FloatSlider(value=1,min=0,max=10,step=0.5),t_f=widgets.FloatSlider(value=4,min=1,max=10,step=0.1),in_state=widgets.IntSlider(value=2**L,min=0,max=4**L-1,step=1),t=widgets.IntSlider(value=0,min=0,max=t_steps-1,step=1));"
   ]
  }
 ],
 "metadata": {
  "kernelspec": {
   "display_name": "Python 3",
   "language": "python",
   "name": "python3"
  },
  "language_info": {
   "codemirror_mode": {
    "name": "ipython",
    "version": 3
   },
   "file_extension": ".py",
   "mimetype": "text/x-python",
   "name": "python",
   "nbconvert_exporter": "python",
   "pygments_lexer": "ipython3",
   "version": "3.8.5"
  }
 },
 "nbformat": 4,
 "nbformat_minor": 4
}
