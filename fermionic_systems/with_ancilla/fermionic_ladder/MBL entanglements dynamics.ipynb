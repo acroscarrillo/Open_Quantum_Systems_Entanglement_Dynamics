{
 "cells": [
  {
   "cell_type": "markdown",
   "metadata": {},
   "source": [
    "\n",
    "# Spinless fermions in a ladder with nearest-neightbour hopping and attraction/repulsion interaction: <br/> Dissipative entanglement dynamics\n",
    "\n",
    "\n",
    "\n",
    "\n",
    "## 1. Theory\n",
    "\n",
    "This quantum many body model constitutes a first realistic model at the problem of entanglement dynamics, in particular in the frame of open systems. Consider two fermionic rings with nearest-neightbour hopping ($J$) coupled to each other via a nearest-neightbour hopping term ($\\lambda_J$). In addition consider an attraction/repulsion nearest-neightbours interaction by a density-density interaction ($U, \\lambda_U$).\n",
    "\n",
    "The Hamiltonian is naturally given by\n",
    "$$\n",
    "\\begin{align}\n",
    "H = H_0 + H_I =& J \\sum_{j=1}^L(c^\\dagger_{j,A} c_{j+1,A} + c^\\dagger_{j,B} c_{j+1,B}+h.c.)+\\lambda_J\\sum_{j=1}^L(c^\\dagger_{j,A} c_{j,B}+h.c.) + U \\sum_{j=1}^L(n_{j,A} n_{j+1,A} + n_{j,B} n_{j+1,B}+h.c.) \\\\\n",
    "+& \\lambda_U\\sum_{j=1}^L(n^\\dagger_{j,A} n_{j,B}+h.c.) + \\sum_{j=1}^{L}(W_j n_{j,A}+ W'_j n_{j,B}),\n",
    "\\end{align}\n",
    "$$\n",
    "where $c_{j,\\alpha}^\\dagger$ and $c_{j,\\alpha}$ create and annhilate a spinless fermion at the $j$-th site of ring $\\alpha$, respectively and $n_{j,\\alpha}\\doteq c^\\dagger_{j,\\alpha} c_{j,\\alpha}$ with $W_j, W'_j \\in \\text{Uniform}[W_-,W_+]$.\n",
    "We are interested in studying the entanglement dynamics as half of the chain is inmmersed in a bath (i.e. in contact with the exterior). We thus named the top ring $A$ and the bottom ring $B$ which we will surmerge in the bath. We will study the entanglement dynamics between two subdivisions of $A = A_1 \\cup A_2$ as $B$ is bathed at time $t=0$. For this we will calculate the (logarithmic) entanglement negativity $\\mathcal{N}(t)$ between $A_1$ and $A_2$ which we remind the reader is given by \n",
    "$$\n",
    "\\mathcal{N}(t)\\equiv \\mathcal{N}[\\rho_{A}(t)] =  \\log_2 ||\\rho_{A}^{\\Gamma_{A_1}}(t)||_1,\n",
    "$$\n",
    "where $\\rho_{A}(t) = \\text{Tr}_B \\rho (t)$, the density matrix describing subsystem $A$ and $\\rho_A(t)^{\\Gamma_{A_1}}$ is the partial transposition of $\\rho_A(t)$ wrt subsystem $A_1$.\n",
    "\n",
    "<!-- Naturally, one exploits the translational symmetries of the rings to cast $H_0$ in a diagonal form:\n",
    "$$\n",
    "H_0 = \\sum_{k=1}^{2L} \\epsilon_k f^\\dagger_k f_k \\quad \\text{with} \\quad \\epsilon_k = \\begin{cases} \n",
    "      2J\\cos(2 \\pi k/L)+ \\lambda  &  1 \\leq k \\leq L \\\\\n",
    "      2J\\cos(2 \\pi k/L)- \\lambda & L+1 \\leq k \\leq 2L  \n",
    "   \\end{cases} \n",
    "$$\n",
    "where\n",
    "$$\n",
    "c_{j,A} = \\frac{1}{\\sqrt{2L}}\\sum^L_{k=1} e^{-ijk2\\pi/L}(f_k + f_{k+L}) \\iff f_k = \\frac{1}{\\sqrt{2L}}\\sum^L_{k=1} e^{ijk2\\pi/L}(c_{j,B} + c_{j,B}) \\\\\n",
    "c_{j,B} = \\frac{1}{\\sqrt{2L}}\\sum^L_{k=1} e^{-ijk2\\pi/L}(f_k - f_{k+L}) \\iff f_{k+L} = \\frac{1}{\\sqrt{2L}}\\sum^L_{k=1} e^{ijk2\\pi/L}(c_{j,A} - c_{j,B})\n",
    "$$\n",
    "and their hermitian conjugated siblings. The number operators are now\n",
    "$$\n",
    "n_{j,A} =  \\frac{1}{2L}\\sum^L_{p=1} \\sum^L_{q=1} e^{-ij(q-p)2\\pi/L}(f_p^\\dagger + f_{p+L}^\\dagger) (f_q + f_{q+L}), \\\\\n",
    "n_{j,B} =  \\frac{1}{2L}\\sum^L_{p=1} \\sum^L_{q=1} e^{-ij(q-p)2\\pi/L}(f_p^\\dagger - f_{p+L}^\\dagger) (f_q - f_{q+L}). \n",
    "$$\n",
    "If we switch to the POV where the two chains are one after another, i.e $c_{j,A} = c_j$ with $c_{j,B}=c_{j+L}$, then \n",
    "$$\n",
    "\\begin{align}\n",
    "\\sum_{j=1}^L n^\\dagger_{j,A} n_{j,B} \\equiv& \\sum_{j=1}^L n^\\dagger_{j} n_{j+L} =  \\frac{1}{4L^2}\\sum_{j=1}^L \\left\\{ \\sum^L_{p=1} \\sum^L_{q=1}\\sum^L_{r=1} \\sum^L_{s=1} e^{-ij(q+s-p-r)2\\pi/L}(f_p^\\dagger + f_{p+L}^\\dagger) (f_q + f_{q+L})(f_r^\\dagger - f_{r+L}^\\dagger) (f_s - f_{s+L}) \\right\\} \\\\\n",
    "=&  \\frac{1}{4L} \\sum^L_{p=1} \\sum^L_{q=1}\\sum^L_{r=1} \\sum^L_{s=1} \\delta_{q+s,p+r}(f_p^\\dagger + f_{p+L}^\\dagger) (f_q + f_{q+L})(f_r^\\dagger - f_{r+L}^\\dagger) (f_s - f_{s+L}) \\\\\n",
    "=&  \\frac{1}{4L} \\sum^L_{p=1} \\sum^L_{q=1}\\sum^L_{r=1} \\sum^L_{s=1} \\delta_{q+s,p+r}(f_p^\\dagger f_q + f_p^\\dagger f_{q+L} +f_{p+L}^\\dagger f_q+f_{p+L}^\\dagger f_{q+L})(f_r^\\dagger f_s - f_{r+L}^\\dagger f_s - f_r^\\dagger f_{s+L} + f_{r+L}^\\dagger f_{s+L})\n",
    "\\end{align}\n",
    "$$\n",
    "and the interaction Hamiltonian $H_I$ now reads\n",
    "$$\n",
    " H_I =  U \\sum_{j=1}^L(n_{j,A} n_{j+1,A} + n_{j,B} n_{j+1,B}+h.c.)+\\lambda_U\\sum_{j=1}^L(n^\\dagger_{j,A} n_{j,B}+h.c.)\n",
    "$$ -->"
   ]
  },
  {
   "cell_type": "code",
   "execution_count": 1,
   "metadata": {},
   "outputs": [],
   "source": [
    "from IPython.display import Image\n",
    "from qutip import *\n",
    "import numpy as np\n",
    "from numpy import linalg as LA\n",
    "import matplotlib.pyplot as plt\n",
    "import ipywidgets as widgets\n",
    "from ipywidgets import interact, interactive, fixed, interact_manual\n",
    "\n",
    "L = 3\n",
    "\n",
    "def id():\n",
    "    op_list = []\n",
    "    for i in range(2*L):\n",
    "        op_list.append(qeye(2))\n",
    "    op = Qobj(tensor(op_list))\n",
    "    return op\n",
    "\n",
    "def sigma_z(k):\n",
    "    op_list = []\n",
    "    if k<=2*L-1 and k>=0:\n",
    "        for i in range(2*L):\n",
    "            if i==k:\n",
    "                op_list.append(sigmaz())\n",
    "            else:\n",
    "                op_list.append(qeye(2))\n",
    "        op = Qobj(tensor(op_list))\n",
    "        return op\n",
    "\n",
    "    else:\n",
    "        raise ValueError(\"Index out of range: Operator sigma_z_\"+str(k)+\" may not be casted in a system with \"+str(2*L)+\" spins. By convention first spin is labeled as 0.\")\n",
    "\n",
    "def c(k):\n",
    "    if k<=2*L-1 and k>=0:\n",
    "        op_list = []\n",
    "        for i in range(2*L):\n",
    "            if i==k:\n",
    "                op_list.append(destroy(2))\n",
    "            else:\n",
    "                op_list.append(qeye(2))\n",
    "        aux = Qobj(tensor(op_list))\n",
    "        phase = Qobj(tensor([qeye(2)]*(2*L)))\n",
    "        for i in range(0,k):\n",
    "            phase = phase*sigma_z(i)\n",
    "        op = phase*aux\n",
    "        return op\n",
    "\n",
    "    else:\n",
    "        raise ValueError(\"Index out of range: Operator c_\"+str(k)+\" may not be casted in a system with \"+str(2*L)+\" spins. By convention first spin is labeled as 0.\")"
   ]
  },
  {
   "cell_type": "markdown",
   "metadata": {},
   "source": [
    "# Possible signatures of MBL\n",
    "\n",
    "Lets see what happens to an intial state with two fermions in it when we trace over all sites but two: will the rest of the system serve as a bath thermalising the subsystem? Will this change depending on the sit disorder? Lets find out!"
   ]
  },
  {
   "cell_type": "code",
   "execution_count": 2,
   "metadata": {
    "scrolled": true
   },
   "outputs": [
    {
     "data": {
      "application/vnd.jupyter.widget-view+json": {
       "model_id": "0cfed3a0b1f846d2a548f8bfbc492d22",
       "version_major": 2,
       "version_minor": 0
      },
      "text/plain": [
       "interactive(children=(FloatSlider(value=1.0, description='J', max=5.0, min=-5.0, step=0.5), FloatSlider(value=…"
      ]
     },
     "metadata": {},
     "output_type": "display_data"
    }
   ],
   "source": [
    "t_steps = 100\n",
    "B = [4,5]\n",
    "def ocuppation(J,lamb_J,U,lamb_U,W,t):\n",
    "    H = Qobj(tensor([Qobj(np.zeros((2,2)))]*(2*L)))\n",
    "\n",
    "    for i in range(L-1):                 # Hopping in ring B\n",
    "        H += J*c(i).dag()*c(i+1)\n",
    "    if L>1:\n",
    "        H +=  J*c(L-1).dag()*c(0)            # Periodic BC in ring B\n",
    "    for i in range(L,2*L-1):             # Hopping in ring A\n",
    "        H += J*c(i).dag()*c(i+1)\n",
    "    if L>1:\n",
    "        H +=  J*c(2*L-1).dag()*c(L)          # Periodic BC in ring A\n",
    "    for i in range(L):                 # Hopping between rings\n",
    "        H += lamb_J*c(i).dag()*c(i+L)\n",
    "    \n",
    "    np.random.seed(4)                      # Site random potential for MBL\n",
    "    for i in range(2*L-1):\n",
    "        H += np.random.uniform(-W,W,1)[0]*c(i).dag()*c(i)\n",
    "    \n",
    "    for i in range(L-1):                                # Interaction in ring B\n",
    "        H += U*c(i).dag()*c(i)*c(i+1).dag()*c(i+1)\n",
    "    if L>1:\n",
    "        H +=  U*c(L-1).dag()*c(L-1)*c(0).dag()*c(0)         # Periodic BC in ring B\n",
    "    for i in range(L,2*L-1):                            # Hopping in ring A\n",
    "        H += U*c(i).dag()*c(i)*c(i+1).dag()*c(i+1)\n",
    "    if L>1:\n",
    "        H +=  U*c(2*L-1).dag()*c(2*L-1)*c(L).dag()*c(L)     # Periodic BC in ring A\n",
    "    for i in range(L):                                # Interaction between rings\n",
    "        H += lamb_U*c(i).dag()*c(i)*c(i+L).dag()*c(i+L)\n",
    "\n",
    "    H += H.dag()                                   # Fill lower diagonal\n",
    "\n",
    "    E,V = H.eigenstates()                               # Solve eigensys\n",
    "    \n",
    "#     rho_0 = V[int(state_in)]*V[int(state_in)].dag()              #chose eigenstate\n",
    "\n",
    "    rho_0 = ket(\"001001\")*bra(\"001001\")\n",
    "\n",
    "    time_array = np.linspace(0.0, 1000., t_steps)             #time array for numerical solver\n",
    "    rho_t = mesolve(H, rho_0, time_array)\n",
    "    \n",
    "    np.set_printoptions(precision=2)\n",
    "    print(np.round(rho_t.states[int(t)].ptrace(sel = B,sparse=False),decimals=2))\n",
    "    \n",
    "interact(ocuppation, J=widgets.FloatSlider(value=1,min=-5,max=5,step=0.5), lamb_J = widgets.FloatSlider(value=1,min=-5,max=5.0,step=0.5),U=widgets.FloatSlider(value=0,min=-5,max=5,step=0.5),lamb_U=widgets.FloatSlider(value=0,min=-5,max=5,step=0.5),W=widgets.FloatSlider(value=0,min=0,max=6,step=0.5),t=widgets.FloatSlider(value=0,min=0,max=t_steps-1,step=1));"
   ]
  },
  {
   "cell_type": "markdown",
   "metadata": {},
   "source": [
    "MBL with only nearest neightbour hopping, i.e. $U = \\lambda_U =  0$"
   ]
  },
  {
   "cell_type": "code",
   "execution_count": 3,
   "metadata": {},
   "outputs": [
    {
     "name": "stdout",
     "output_type": "stream",
     "text": [
      "Initial traced-out state:\n",
      "[[0.+0.j 0.+0.j 0.+0.j 0.+0.j]\n",
      " [0.+0.j 1.+0.j 0.+0.j 0.+0.j]\n",
      " [0.+0.j 0.+0.j 0.+0.j 0.+0.j]\n",
      " [0.+0.j 0.+0.j 0.+0.j 0.+0.j]]\n",
      "W=0\n",
      "[[ 0.44-0.j    0.  +0.j    0.  +0.j    0.  +0.j  ]\n",
      " [ 0.  +0.j    0.12+0.j   -0.22+0.07j  0.  +0.j  ]\n",
      " [ 0.  +0.j   -0.22-0.07j  0.44+0.j    0.  +0.j  ]\n",
      " [ 0.  +0.j    0.  +0.j    0.  +0.j   -0.  -0.j  ]]\n",
      "W=2\n",
      "[[0.1 +0.j   0.  +0.j   0.  +0.j   0.  +0.j  ]\n",
      " [0.  +0.j   0.86-0.j   0.05+0.06j 0.  +0.j  ]\n",
      " [0.  +0.j   0.05-0.06j 0.01-0.j   0.  +0.j  ]\n",
      " [0.  +0.j   0.  +0.j   0.  +0.j   0.03+0.j  ]]\n"
     ]
    }
   ],
   "source": [
    "print(\"Initial traced-out state:\")\n",
    "print(np.round((ket(\"001001\")*bra(\"001001\")).ptrace(sel = B,sparse=False),decimals=2))\n",
    "print(\"W=0\")\n",
    "ocuppation(J=1,lamb_J=1,U=0,lamb_U=0,W=0,t=99)\n",
    "print(\"W=2\")\n",
    "ocuppation(J=1,lamb_J=1,U=0,lamb_U=0,W=2,t=99)"
   ]
  },
  {
   "cell_type": "markdown",
   "metadata": {},
   "source": [
    "Now some MBL with ring-ring density-density nearest neightbour interactions, i.e. $\\lambda_U\\neq 0$"
   ]
  },
  {
   "cell_type": "code",
   "execution_count": 4,
   "metadata": {
    "scrolled": true
   },
   "outputs": [
    {
     "name": "stdout",
     "output_type": "stream",
     "text": [
      "Initial traced-out state:\n",
      "[[0.+0.j 0.+0.j 0.+0.j 0.+0.j]\n",
      " [0.+0.j 1.+0.j 0.+0.j 0.+0.j]\n",
      " [0.+0.j 0.+0.j 0.+0.j 0.+0.j]\n",
      " [0.+0.j 0.+0.j 0.+0.j 0.+0.j]]\n",
      "W=0\n",
      "[[0.32-0.j   0.  +0.j   0.  +0.j   0.  +0.j  ]\n",
      " [0.  +0.j   0.36+0.j   0.05-0.09j 0.  +0.j  ]\n",
      " [0.  +0.j   0.05+0.09j 0.32-0.j   0.  +0.j  ]\n",
      " [0.  +0.j   0.  +0.j   0.  +0.j   0.  -0.j  ]]\n",
      "W=5\n",
      "[[ 0.15+0.j    0.  +0.j    0.  +0.j    0.  +0.j  ]\n",
      " [ 0.  +0.j    0.74+0.j   -0.14+0.14j  0.  +0.j  ]\n",
      " [ 0.  +0.j   -0.14-0.14j  0.11-0.j    0.  +0.j  ]\n",
      " [ 0.  +0.j    0.  +0.j    0.  +0.j    0.  +0.j  ]]\n"
     ]
    }
   ],
   "source": [
    "print(\"Initial traced-out state:\")\n",
    "print(np.round((ket(\"001001\")*bra(\"001001\")).ptrace(sel = B,sparse=False),decimals=2))\n",
    "print(\"W=0\")\n",
    "ocuppation(J=1,lamb_J=1,U=0,lamb_U=1,W=0,t=99)\n",
    "print(\"W=5\")\n",
    "ocuppation(J=1,lamb_J=1,U=0,lamb_U=1,W=5,t=99)"
   ]
  },
  {
   "cell_type": "code",
   "execution_count": 5,
   "metadata": {},
   "outputs": [
    {
     "data": {
      "application/vnd.jupyter.widget-view+json": {
       "model_id": "ec593bc6f81542989ff837635c24168b",
       "version_major": 2,
       "version_minor": 0
      },
      "text/plain": [
       "interactive(children=(FloatSlider(value=1.0, description='J', max=5.0, min=-5.0, step=0.5), FloatSlider(value=…"
      ]
     },
     "metadata": {},
     "output_type": "display_data"
    }
   ],
   "source": [
    "def ocuppation(J,lamb_J,U,lamb_U,W_min,W_max,gamma_u,gamma_d):\n",
    "    H = Qobj(tensor([Qobj(np.zeros((2,2)))]*(2*L)))\n",
    "\n",
    "    for i in range(L-1):                 # Hopping in ring B\n",
    "        H += J*c(i).dag()*c(i+1)\n",
    "    if L>1:\n",
    "        H +=  J*c(L-1).dag()*c(0)            # Periodic BC in ring B\n",
    "    for i in range(L,2*L-1):             # Hopping in ring A\n",
    "        H += J*c(i).dag()*c(i+1)\n",
    "    if L>1:\n",
    "        H +=  J*c(2*L-1).dag()*c(L)          # Periodic BC in ring A\n",
    "    for i in range(L):                 # Hopping between rings\n",
    "        H += lamb_J*c(i).dag()*c(i+L)\n",
    "    \n",
    "    np.random.seed(4)                      # Site random potential for MBL\n",
    "    for i in range(2*L-1):\n",
    "        H += np.random.uniform(W_min,W_max,1)[0]*c(i).dag()*c(i)\n",
    "    \n",
    "    for i in range(L-1):                                # Interaction in ring B\n",
    "        H += U*c(i).dag()*c(i)*c(i+1).dag()*c(i+1)\n",
    "    if L>1:\n",
    "        H +=  U*c(L-1).dag()*c(L-1)*c(0).dag()*c(0)         # Periodic BC in ring B\n",
    "    for i in range(L,2*L-1):                            # Hopping in ring A\n",
    "        H += U*c(i).dag()*c(i)*c(i+1).dag()*c(i+1)\n",
    "    if L>1:\n",
    "        H +=  U*c(2*L-1).dag()*c(2*L-1)*c(L).dag()*c(L)     # Periodic BC in ring A\n",
    "    for i in range(L):                                # Interaction between rings\n",
    "        H += lamb_U*c(i).dag()*c(i)*c(i+L).dag()*c(i+L)\n",
    "\n",
    "    H += H.dag()                                   # Fill lower diagonal\n",
    "\n",
    "    E,V = H.eigenstates()                               # Solve eigensys\n",
    "    \n",
    "    rho_0 = V[len(V)//2]*V[len(V)//2].dag()              #chose middle lying eigenstate\n",
    "\n",
    "    c_ops = []                                           # Collapse operators affecting only ring B\n",
    "    for i in range(L):                                   \n",
    "        c_ops.append(np.sqrt(gamma_d)*c(i))\n",
    "        c_ops.append(np.sqrt(gamma_u)*c(i).dag())\n",
    "\n",
    "    n_B = Qobj(tensor([Qobj(np.zeros((2,2)))]*(2*L)))    # total ring B number op\n",
    "    for i in range(L):\n",
    "        n_B += c(i).dag()*c(i)\n",
    "\n",
    "    n_A =  Qobj(tensor([Qobj(np.zeros((2,2)))]*(2*L)))   # total ring A number op\n",
    "    for i in range(L,2*L):\n",
    "        n_A += c(i).dag()*c(i)\n",
    "\n",
    "    time_array = np.linspace(0.0, 15.0, 50)             #time array for numerical solver\n",
    "    rho_t = mesolve(H, rho_0, time_array, c_ops, [n_B,n_A])\n",
    "\n",
    "    plt.plot(time_array, rho_t.expect[0],label=r'$N^B_T$');\n",
    "    plt.plot(time_array, rho_t.expect[1],label=r'$N^A_T$');\n",
    "    plt.xlabel('t');\n",
    "    plt.ylabel(r'$N$');\n",
    "    plt.legend();\n",
    "    \n",
    "interact(ocuppation, J=widgets.FloatSlider(value=1,min=-5,max=5,step=0.5), lamb_J = widgets.FloatSlider(value=1,min=-5,max=5.0,step=0.5),U=widgets.FloatSlider(value=1,min=-5,max=5,step=0.5),lamb_U=widgets.FloatSlider(value=1,min=-5,max=5,step=0.5),gamma_u=widgets.FloatSlider(value=1,min=0,max=5,step=0.5),gamma_d=widgets.FloatSlider(value=1,min=0,max=5,step=0.5),W_min=widgets.FloatSlider(value=1,min=0,max=5,step=0.5),W_max=widgets.FloatSlider(value=2,min=0,max=5,step=0.5));"
   ]
  },
  {
   "cell_type": "markdown",
   "metadata": {},
   "source": [
    "We can see that now things are more interesting with the interaction term. Lets now study the entanglement negativity, let's first define a negativity `Python3` method:"
   ]
  },
  {
   "cell_type": "code",
   "execution_count": 6,
   "metadata": {},
   "outputs": [],
   "source": [
    "def E_N_by_L(dm,AB,A):\n",
    "    if len(AB)/(2*L) < 1:\n",
    "        rho_ab = (dm).ptrace(sel = AB,sparse=False)\n",
    "    if len(AB)/(2*L) == 1:\n",
    "        rho_ab = Qobj(tensor([Qobj(np.zeros((2,2)))]*(2*L)))\n",
    "        rho_ab += dm  #v*v.dag()\n",
    "    elif len(AB)/(2*L) > 1:\n",
    "        raise ValueError(\"Input error: partial trace must take a subsystem NOT larger than system.\")\n",
    "\n",
    "    rho_p = partial_transpose(rho_ab,A) #hand checked for 8*8 matrix\n",
    "\n",
    "    del(rho_ab)\n",
    "    lam = rho_p.eigenenergies()\n",
    "    del(rho_p)\n",
    "    lam_neg_sum = 0.0\n",
    "    for r in range(len(lam)):\n",
    "        lam_neg_sum += 0.5*(abs(lam[r])-lam[r])\n",
    "    # print(lam_neg_sum)\n",
    "    log_neg = np.log(2*lam_neg_sum+1)\n",
    "    return log_neg/(2*L)"
   ]
  },
  {
   "cell_type": "code",
   "execution_count": 8,
   "metadata": {
    "scrolled": false
   },
   "outputs": [
    {
     "data": {
      "application/vnd.jupyter.widget-view+json": {
       "model_id": "6a19dc3aa5ab488cbf44b62d91988906",
       "version_major": 2,
       "version_minor": 0
      },
      "text/plain": [
       "interactive(children=(IntSlider(value=8, description='in_state', max=63), FloatSlider(value=1.0, description='…"
      ]
     },
     "metadata": {},
     "output_type": "display_data"
    }
   ],
   "source": [
    "AB = [3,4,5]\n",
    "A =  [0,1,1]\n",
    "\n",
    "def negativity(in_state,J,lamb_J,U,lamb_U,W_min,W_max,gamma_u,gamma_d,t_f,t_steps):\n",
    "    H = Qobj(tensor([Qobj(np.zeros((2,2)))]*(2*L)))\n",
    "\n",
    "    for i in range(L-1):                 # Hopping in ring B\n",
    "        H += J*c(i).dag()*c(i+1)\n",
    "    if L>1:\n",
    "        H +=  J*c(L-1).dag()*c(0)            # Periodic BC in ring B\n",
    "    for i in range(L,2*L-1):             # Hopping in ring A\n",
    "        H += J*c(i).dag()*c(i+1)\n",
    "    if L>1:\n",
    "        H +=  J*c(2*L-1).dag()*c(L)          # Periodic BC in ring A\n",
    "    for i in range(L):                 # Hopping between rings\n",
    "        H += lamb_J*c(i).dag()*c(i+L)\n",
    "\n",
    "    np.random.seed(4)                      # Site random potential for MBL\n",
    "    for i in range(2*L-1):\n",
    "        H += np.random.uniform(W_min,W_max,1)[0]*c(i).dag()*c(i)        \n",
    "        \n",
    "    for i in range(L-1):                                # Interaction in ring B\n",
    "        H += U*c(i).dag()*c(i)*c(i+1).dag()*c(i+1)\n",
    "    if L>1:\n",
    "        H +=  U*c(L-1).dag()*c(L-1)*c(0).dag()*c(0)         # Periodic BC in ring B\n",
    "    for i in range(L,2*L-1):                            # Hopping in ring A\n",
    "        H += U*c(i).dag()*c(i)*c(i+1).dag()*c(i+1)\n",
    "    if L>1:\n",
    "        H +=  U*c(2*L-1).dag()*c(2*L-1)*c(L).dag()*c(L)     # Periodic BC in ring A\n",
    "    for i in range(L):                                # Interaction between rings\n",
    "        H += lamb_U*c(i).dag()*c(i)*c(i+L).dag()*c(i+L)\n",
    "\n",
    "    H += H.dag()                                        # Fill lower diagonal\n",
    "\n",
    "    E,V = H.eigenstates()                               # Solve eigensys\n",
    "    \n",
    "#     rho_0 = ket(\"111001\")*bra(\"111001\")\n",
    "    rho_0 = V[in_state]*V[in_state].dag()             #chose eigenstate\n",
    "\n",
    "    c_ops = []                                           # Collapse operators affecting only ring B\n",
    "    for i in range(L):                                   \n",
    "        c_ops.append(np.sqrt(gamma_d)*c(i))\n",
    "        c_ops.append(np.sqrt(gamma_u)*c(i).dag())\n",
    "\n",
    "    time_array = np.linspace(0.0, t_f, t_steps)             #time array for numerical solver\n",
    "    rho_t = mesolve(H, rho_0, time_array, c_ops)\n",
    "    \n",
    "    neg = []\n",
    "    for state in rho_t.states:\n",
    "        neg.append(E_N_by_L(state,AB,A))\n",
    "        \n",
    "    plt.plot(time_array, neg, label=\"L=\"+str(L)+\", state=\"+str(in_state)+\", AB=\"+str(AB));\n",
    "    plt.xlabel('t');\n",
    "    plt.ylabel(r'$E_N/L$');\n",
    "    plt.legend();\n",
    "    \n",
    "warnings.filterwarnings('ignore')\n",
    "interact(negativity, J=widgets.FloatSlider(value=1,min=-5,max=5,step=0.5), lamb_J = widgets.FloatSlider(value=1,min=-5,max=5.0,step=0.5),U=widgets.FloatSlider(value=1,min=-5,max=5,step=0.5),lamb_U=widgets.FloatSlider(value=1,min=-5,max=5,step=0.5),gamma_u=widgets.FloatSlider(value=1,min=0,max=5,step=0.5),gamma_d=widgets.FloatSlider(value=1,min=0,max=5,step=0.5),W_min=widgets.FloatSlider(value=1,min=-5,max=5,step=0.5),W_max=widgets.FloatSlider(value=2,min=0,max=5,step=0.5),t_f=widgets.FloatSlider(value=5,min=1,max=5000,step=1),t_steps=widgets.IntSlider(value=50,min=10,max=1000,step=10),in_state=widgets.IntSlider(value=2**L,min=0,max=4**L-1,step=1));"
   ]
  },
  {
   "cell_type": "code",
   "execution_count": null,
   "metadata": {},
   "outputs": [],
   "source": []
  }
 ],
 "metadata": {
  "kernelspec": {
   "display_name": "Python 3",
   "language": "python",
   "name": "python3"
  },
  "language_info": {
   "codemirror_mode": {
    "name": "ipython",
    "version": 3
   },
   "file_extension": ".py",
   "mimetype": "text/x-python",
   "name": "python",
   "nbconvert_exporter": "python",
   "pygments_lexer": "ipython3",
   "version": "3.8.5"
  }
 },
 "nbformat": 4,
 "nbformat_minor": 4
}
