{
 "cells": [
  {
   "cell_type": "code",
   "execution_count": 13,
   "metadata": {},
   "outputs": [
    {
     "data": {
      "image/png": "[encoded data removed]",
      "text/plain": [
       "<Figure size 432x288 with 1 Axes>"
      ]
     },
     "metadata": {
      "needs_background": "light"
     },
     "output_type": "display_data"
    }
   ],
   "source": [
    "from IPython.display import Image\n",
    "from qutip import *\n",
    "import numpy as np\n",
    "from numpy import linalg as LA\n",
    "import matplotlib.pyplot as plt\n",
    "\n",
    "L =  6\n",
    "mean,s_dev = 0,1\n",
    "\n",
    "def sigma_z(k):\n",
    "    op_list = []\n",
    "    if k<=2*L-1 and k>=0:\n",
    "        for i in range(L):\n",
    "            if i==k:\n",
    "                op_list.append(sigmaz())\n",
    "            else:\n",
    "                op_list.append(qeye(2))\n",
    "        op = Qobj(tensor(op_list))\n",
    "        return op\n",
    "\n",
    "    else:\n",
    "        raise ValueError(\"Index out of range: Operator sigma_z_\"+str(k)+\" may not be casted in a system with \"+str(2*L)+\" spins. By convention first spin is labeled as 0.\")\n",
    "\n",
    "def c(k):\n",
    "    if k<=2*L-1 and k>=0:\n",
    "        op_list = []\n",
    "        for i in range(L):\n",
    "            if i==k:\n",
    "                op_list.append(destroy(2))\n",
    "            else:\n",
    "                op_list.append(qeye(2))\n",
    "        aux = Qobj(tensor(op_list))\n",
    "        phase = Qobj(tensor([qeye(2)]*(L)))\n",
    "        for i in range(0,k):\n",
    "            phase = phase*sigma_z(i)\n",
    "        op = phase*aux\n",
    "        return op\n",
    "\n",
    "    else:\n",
    "        raise ValueError(\"Index out of range: Operator c_\"+str(k)+\" may not be casted in a system with \"+str(2*L)+\" spins. By convention first spin is labeled as 0.\")\n",
    "        \n",
    "n_T = Qobj(tensor([Qobj(np.zeros((2,2)))]*(L)))                        #total ring B number op\n",
    "for i in range(L):\n",
    "    n_T += c(i).dag()*c(i)\n",
    "    \n",
    "V = np.zeros((L,L))\n",
    "for i in range(L):\n",
    "    for k in range(i,L):\n",
    "        V[i,k]= np.random.normal(mean,s_dev)\n",
    "        V[k,i]=V[i,k]\n",
    "\n",
    "H = Qobj(tensor([Qobj(np.zeros((2,2)))]*L))\n",
    "for i in range(L):\n",
    "    for k in range(L):\n",
    "        H += V[i,k]*c(i).dag()*c(k)\n",
    "        \n",
    "E,V = H.eigenstates()\n",
    "\n",
    "c_ops = []\n",
    "for i in range(L):\n",
    "    c_ops.append(c(i))\n",
    "\n",
    "time_array = np.linspace(0.0,7, 100)\n",
    "rho_0 = V[len(V)//2]*V[len(V)//2].dag()\n",
    "rho_t = mesolve(H, rho_0, time_array, c_ops, [n_T,c(1).dag()*c(1)])\n",
    "\n",
    "plt.plot(time_array, rho_t.expect[0]);\n",
    "plt.plot(time_array, rho_t.expect[1]);\n",
    "plt.xlabel('t');\n",
    "plt.ylabel('N');\n",
    "plt.title(\"Free fermions in a bath: Fermion population against time.\")\n",
    "\n",
    "plt.tight_layout()\n",
    "plt.savefig('output.png', dpi=300)"
   ]
  },
  {
   "cell_type": "code",
   "execution_count": null,
   "metadata": {},
   "outputs": [],
   "source": []
  }
 ],
 "metadata": {
  "kernelspec": {
   "display_name": "Python 3",
   "language": "python",
   "name": "python3"
  },
  "language_info": {
   "codemirror_mode": {
    "name": "ipython",
    "version": 3
   },
   "file_extension": ".py",
   "mimetype": "text/x-python",
   "name": "python",
   "nbconvert_exporter": "python",
   "pygments_lexer": "ipython3",
   "version": "3.8.5"
  }
 },
 "nbformat": 4,
 "nbformat_minor": 4
}
