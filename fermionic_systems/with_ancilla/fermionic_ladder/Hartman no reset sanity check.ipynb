{
 "cells": [
  {
   "cell_type": "markdown",
   "metadata": {},
   "source": [
    "# 1. In Spin Language\n",
    "\n",
    "This model is given by a simple 2-site Hamiltonian \n",
    "$$\n",
    "H = \\frac{\\omega}{2}(\\sigma_1^z+\\sigma_2^z)+ g\\sigma_x^1 \\sigma_x^2.\n",
    "$$\n",
    "The evolution with dissipation as defined in [Hartman](https://iopscience.iop.org/article/10.1088/1367-2630/9/7/230/pdf)\n",
    "$$\n",
    "\\dot {\\rho}(t)=-i[H,\\rho(t)] +\\sum_{i=1}^{2}-\\frac{B}{2}(1-s)\\left[\\sigma_{+}^{(i)} \\sigma_{-}^{(i)} \\rho+\\rho \\sigma_{+}^{(i)} \\sigma_{-}^{(i)}-2 \\sigma_{-}^{(i)} \\rho \\sigma_{+}^{(i)}\\right]\\quad-\\frac{B}{2} s\\left[\\sigma_{-}^{(i)} \\sigma_{+}^{(i)} \\rho+\\rho \\sigma_{-}^{(i)} \\sigma_{+}^{(i)}-2 \\sigma_{+}^{(i)} \\rho \\sigma_{-}^{(i)}\\right]\n",
    "$$"
   ]
  },
  {
   "cell_type": "code",
   "execution_count": 1,
   "metadata": {},
   "outputs": [],
   "source": [
    "from IPython.display import Image\n",
    "from qutip import *\n",
    "import numpy as np\n",
    "from numpy import linalg as LA\n",
    "import matplotlib.pyplot as plt\n",
    "import ipywidgets as widgets\n",
    "from ipywidgets import interact, interactive, fixed, interact_manual\n",
    "\n",
    "L =1\n",
    "\n",
    "def sigma_z(k):\n",
    "    op_list = []\n",
    "    if k<=2*L-1 and k>=0:\n",
    "        for i in range(2*L):\n",
    "            if i==k:\n",
    "                op_list.append(sigmaz())\n",
    "            else:\n",
    "                op_list.append(qeye(2))\n",
    "        op = Qobj(tensor(op_list))\n",
    "        return op\n",
    "\n",
    "    else:\n",
    "        raise ValueError(\"Index out of range: Operator sigma_z_\"+str(k)+\" may not be casted in a system with \"+str(2*L)+\" spins. By convention first spin is labeled as 0.\")\n",
    "\n",
    "def sigma_x(k):\n",
    "    op_list = []\n",
    "    if k<=2*L-1 and k>=0:\n",
    "        for i in range(2*L):\n",
    "            if i==k:\n",
    "                op_list.append(sigmax())\n",
    "            else:\n",
    "                op_list.append(qeye(2))\n",
    "        op = Qobj(tensor(op_list))\n",
    "        return op\n",
    "\n",
    "    else:\n",
    "        raise ValueError(\"Index out of range: Operator sigma_x_\"+str(k)+\" may not be casted in a system with \"+str(2*L)+\" spins. By convention first spin is labeled as 0.\")\n",
    "\n",
    "def sigma_p(k):\n",
    "    op_list = []\n",
    "    if k<=2*L-1 and k>=0:\n",
    "        for i in range(2*L):\n",
    "            if i==k:\n",
    "                op_list.append(sigmap())\n",
    "            else:\n",
    "                op_list.append(qeye(2))\n",
    "        op = Qobj(tensor(op_list))\n",
    "        return op\n",
    "\n",
    "    else:\n",
    "        raise ValueError(\"Index out of range: Operator sigma_p_\"+str(k)+\" may not be casted in a system with \"+str(2*L)+\" spins. By convention first spin is labeled as 0.\")\n",
    "\n",
    "def sigma_m(k):\n",
    "    op_list = []\n",
    "    if k<=2*L-1 and k>=0:\n",
    "        for i in range(2*L):\n",
    "            if i==k:\n",
    "                op_list.append(sigmam())\n",
    "            else:\n",
    "                op_list.append(qeye(2))\n",
    "        op = Qobj(tensor(op_list))\n",
    "        return op\n",
    "\n",
    "    else:\n",
    "        raise ValueError(\"Index out of range: Operator sigma_m_\"+str(k)+\" may not be casted in a system with \"+str(2*L)+\" spins. By convention first spin is labeled as 0.\")"
   ]
  },
  {
   "cell_type": "markdown",
   "metadata": {},
   "source": [
    "Let's set $\\omega = g = 1$ to ilustrate the model"
   ]
  },
  {
   "cell_type": "code",
   "execution_count": 2,
   "metadata": {},
   "outputs": [
    {
     "data": {
      "text/latex": [
       "Quantum object: dims = [[2, 2], [2, 2]], shape = (4, 4), type = oper, isherm = True\\begin{equation*}\\left(\\begin{array}{*{11}c}1.0 & 0.0 & 0.0 & 1.0\\\\0.0 & 0.0 & 1.0 & 0.0\\\\0.0 & 1.0 & 0.0 & 0.0\\\\1.0 & 0.0 & 0.0 & -1.0\\\\\\end{array}\\right)\\end{equation*}"
      ],
      "text/plain": [
       "Quantum object: dims = [[2, 2], [2, 2]], shape = (4, 4), type = oper, isherm = True\n",
       "Qobj data =\n",
       "[[ 1.  0.  0.  1.]\n",
       " [ 0.  0.  1.  0.]\n",
       " [ 0.  1.  0.  0.]\n",
       " [ 1.  0.  0. -1.]]"
      ]
     },
     "execution_count": 2,
     "metadata": {},
     "output_type": "execute_result"
    }
   ],
   "source": [
    "H = 0.5*(sigma_z(0)+sigma_z(1))+1*sigma_x(0)*sigma_x(1)\n",
    "H"
   ]
  },
  {
   "cell_type": "code",
   "execution_count": 3,
   "metadata": {},
   "outputs": [
    {
     "data": {
      "text/plain": [
       "array([Quantum object: dims = [[2, 2], [1, 1]], shape = (4, 1), type = ket\n",
       "Qobj data =\n",
       "[[ 0.38268343]\n",
       " [ 0.        ]\n",
       " [ 0.        ]\n",
       " [-0.92387953]],\n",
       "       Quantum object: dims = [[2, 2], [1, 1]], shape = (4, 1), type = ket\n",
       "Qobj data =\n",
       "[[ 0.        ]\n",
       " [-0.70710678]\n",
       " [ 0.70710678]\n",
       " [ 0.        ]],\n",
       "       Quantum object: dims = [[2, 2], [1, 1]], shape = (4, 1), type = ket\n",
       "Qobj data =\n",
       "[[ 0.        ]\n",
       " [-0.70710678]\n",
       " [-0.70710678]\n",
       " [ 0.        ]],\n",
       "       Quantum object: dims = [[2, 2], [1, 1]], shape = (4, 1), type = ket\n",
       "Qobj data =\n",
       "[[0.92387953]\n",
       " [0.        ]\n",
       " [0.        ]\n",
       " [0.38268343]]], dtype=object)"
      ]
     },
     "execution_count": 3,
     "metadata": {},
     "output_type": "execute_result"
    }
   ],
   "source": [
    "E,V = H.eigenstates()\n",
    "V"
   ]
  },
  {
   "cell_type": "markdown",
   "metadata": {},
   "source": [
    "### Negativity method"
   ]
  },
  {
   "cell_type": "code",
   "execution_count": 4,
   "metadata": {},
   "outputs": [],
   "source": [
    "def E_N_by_L(dm,AB,A):\n",
    "    if len(AB)/(2*L) < 1:\n",
    "        rho_ab = (dm).ptrace(sel = AB,sparse=False)\n",
    "    if len(AB)/(2*L) == 1:\n",
    "        rho_ab = Qobj(tensor([Qobj(np.zeros((2,2)))]*(2*L)))\n",
    "        rho_ab += dm  #v*v.dag()\n",
    "    elif len(AB)/(2*L) > 1:\n",
    "        raise ValueError(\"Input error: partial trace must take a subsystem NOT larger than system.\")\n",
    "\n",
    "    rho_p = partial_transpose(rho_ab,A) #hand checked for 8*8 matrix\n",
    "\n",
    "    del(rho_ab)\n",
    "    lam = rho_p.eigenenergies()\n",
    "    del(rho_p)\n",
    "    lam_neg_sum = 0.0\n",
    "    for r in range(len(lam)):\n",
    "        lam_neg_sum += 0.5*(abs(lam[r])-lam[r])\n",
    "    # print(lam_neg_sum)\n",
    "    log_neg = np.log(2*lam_neg_sum+1)\n",
    "    return log_neg/(2*L)"
   ]
  },
  {
   "cell_type": "markdown",
   "metadata": {},
   "source": [
    "### Simulation (spin language)"
   ]
  },
  {
   "cell_type": "code",
   "execution_count": 12,
   "metadata": {},
   "outputs": [
    {
     "data": {
      "application/vnd.jupyter.widget-view+json": {
       "model_id": "178868723ec844b59ad1d44bbe37b5d0",
       "version_major": 2,
       "version_minor": 0
      },
      "text/plain": [
       "interactive(children=(IntSlider(value=2, description='in_state', max=3), FloatSlider(value=1.0, description='w…"
      ]
     },
     "metadata": {},
     "output_type": "display_data"
    }
   ],
   "source": [
    "AB = [0,1]\n",
    "A =  [0,1]\n",
    "\n",
    "def negativity(in_state,w,g,s,B,t_f,t_steps,disp):\n",
    "    H = w*0.5*(sigma_z(0)+sigma_z(1))+g*sigma_x(0)*sigma_x(1)\n",
    "    E,V = H.eigenstates()\n",
    "#     V = [ket(\"00\"),f_0.dag()*ket(\"00\"),f_1.dag()*ket(\"00\"),f_0.dag()*f_1.dag()*ket(\"00\")]      # Eigenstates\n",
    "    \n",
    "    rho_0 = V[in_state]*V[in_state].dag()             # choose eigenstate\n",
    "    \n",
    "    c_ops = [B*(1-s)*sigma_m(0)/2,B*s*sigma_p(0)/2,B*(1-s)*sigma_m(1)/2,B*s*sigma_p(1)/2]         # Collapse operators affecting only first fermion\n",
    "\n",
    "    time_array = np.linspace(0.0, t_f, t_steps)       # time array for numerical solver\n",
    "    rho_t = mesolve(H, rho_0, time_array, c_ops)\n",
    "    \n",
    "    neg = []\n",
    "    for state in rho_t.states:\n",
    "        neg.append(E_N_by_L(state,AB,A))\n",
    "    \n",
    "    plt.plot(time_array, neg, label=\"state in = \"+str(np.real(V[in_state].dag().full())));\n",
    "    plt.xlabel('t');\n",
    "    plt.ylabel(r'$E_N/L$');\n",
    "    plt.legend();\n",
    "    \n",
    "    if disp == 1:\n",
    "        np.set_printoptions(precision=2)\n",
    "        print(\"The initial state is:\")\n",
    "        print(np.around(rho_t.states[0], decimals=1))\n",
    "        print(\"The final state is:\")\n",
    "        print(np.around(rho_t.states[len(rho_t.states)-1], decimals=2))\n",
    "        print(\"Final (log) negativity:\"+str(neg[len(neg)-1]))\n",
    "        print(\"Final negativity:\"+str((2**neg[len(neg)-1]-1)/2))\n",
    "        \n",
    "# warnings.filterwarnings('ignore')\n",
    "interact(negativity, w=widgets.FloatSlider(value=1,min=-5,max=5,step=0.1), g=widgets.FloatSlider(value=1,min=-5,max=5,step=0.1),s=widgets.FloatSlider(value=0,min=0,max=1,step=0.1),B=widgets.FloatSlider(value=1,min=0,max=5,step=0.1),t_f=widgets.FloatSlider(value=50,min=1,max=1000,step=0.1),t_steps=widgets.IntSlider(value=500,min=10,max=1000,step=10),in_state=widgets.IntSlider(value=2**L,min=0,max=4**L-1,step=1),disp=widgets.IntSlider(value=1,min=0,max=1,step=1));"
   ]
  },
  {
   "cell_type": "markdown",
   "metadata": {},
   "source": [
    "# 1. In Fermionic Language\n",
    "\n",
    "This model is given by a simple 2-site free Hamiltonian \n",
    "$$\n",
    "H = \\omega(n_1+n_2)-\\omega+g(c_1^\\dagger c_2^\\dagger+c_2c_1+c_1^\\dagger c_2+c_2^\\dagger c_1).\n",
    "$$\n",
    "The evolution with dissipation as defined in [Hartman](https://iopscience.iop.org/article/10.1088/1367-2630/9/7/230/pdf)\n",
    "$$\n",
    "\\dot {\\rho}(t)=-i[H,\\rho(t)] +\\sum_{i=1}^{2}-\\frac{B}{2}(1-s)\\left[\\sigma_{+}^{(i)} \\sigma_{-}^{(i)} \\rho+\\rho \\sigma_{+}^{(i)} \\sigma_{-}^{(i)}-2 \\sigma_{-}^{(i)} \\rho \\sigma_{+}^{(i)}\\right]\\quad-\\frac{B}{2} s\\left[\\sigma_{-}^{(i)} \\sigma_{+}^{(i)} \\rho+\\rho \\sigma_{-}^{(i)} \\sigma_{+}^{(i)}-2 \\sigma_{+}^{(i)} \\rho \\sigma_{-}^{(i)}\\right]\n",
    "$$"
   ]
  },
  {
   "cell_type": "code",
   "execution_count": 10,
   "metadata": {},
   "outputs": [],
   "source": [
    "def id():\n",
    "    op_list = []\n",
    "    for i in range(2*L):\n",
    "        op_list.append(qeye(2))\n",
    "    op = Qobj(tensor(op_list))\n",
    "    return op\n",
    "\n",
    "def sigma_z(k):\n",
    "    op_list = []\n",
    "    if k<=2*L-1 and k>=0:\n",
    "        for i in range(2*L):\n",
    "            if i==k:\n",
    "                op_list.append(sigmaz())\n",
    "            else:\n",
    "                op_list.append(qeye(2))\n",
    "        op = Qobj(tensor(op_list))\n",
    "        return op\n",
    "\n",
    "    else:\n",
    "        raise ValueError(\"Index out of range: Operator sigma_z_\"+str(k)+\" may not be casted in a system with \"+str(2*L)+\" spins. By convention first spin is labeled as 0.\")\n",
    "\n",
    "def c(k):\n",
    "    if k<=2*L-1 and k>=0:\n",
    "        op_list = []\n",
    "        for i in range(2*L):\n",
    "            if i==k:\n",
    "                op_list.append(destroy(2))\n",
    "            else:\n",
    "                op_list.append(qeye(2))\n",
    "        aux = Qobj(tensor(op_list))\n",
    "        phase = Qobj(tensor([qeye(2)]*(2*L)))\n",
    "        for i in range(0,k):\n",
    "            phase = phase*sigma_z(i)\n",
    "        op = phase*aux\n",
    "        return op\n",
    "\n",
    "    else:\n",
    "        raise ValueError(\"Index out of range: Operator c_\"+str(k)+\" may not be casted in a system with \"+str(2*L)+\" spins. By convention first spin is labeled as 0.\")"
   ]
  },
  {
   "cell_type": "markdown",
   "metadata": {},
   "source": [
    "## Simulation (fermionic language)"
   ]
  },
  {
   "cell_type": "code",
   "execution_count": 13,
   "metadata": {},
   "outputs": [
    {
     "data": {
      "application/vnd.jupyter.widget-view+json": {
       "model_id": "d61a326af46f4539ba0106aeca7ccf90",
       "version_major": 2,
       "version_minor": 0
      },
      "text/plain": [
       "interactive(children=(IntSlider(value=2, description='in_state', max=3), FloatSlider(value=1.0, description='w…"
      ]
     },
     "metadata": {},
     "output_type": "display_data"
    }
   ],
   "source": [
    "AB = [0,1]\n",
    "A =  [0,1]\n",
    "\n",
    "def negativity(in_state,w,g, s,B,t_f,t_steps,disp):\n",
    "    H = w*(c(0).dag()*c(0)+c(1).dag()*c(1))-w+g*(c(0).dag()*c(1).dag()+c(1)*c(0)+c(0).dag()*c(1)+c(1).dag()*c(0))\n",
    "    \n",
    "    E,V = H.eigenstates()      # Eigenstates\n",
    "    \n",
    "    rho_0 = V[in_state]*V[in_state].dag()             # choose eigenstate\n",
    "#     rho_0 = (ket(\"10\")+ket(\"01\"))*(bra(\"10\")+bra(\"01\"))/2\n",
    "    \n",
    "    aa = -1j*np.pi*c(0).dag()*c(0)\n",
    "    bb = 1j*np.pi*c(0).dag()*c(0)\n",
    "    phase1 = aa.expm()\n",
    "    phase2 = bb.expm()\n",
    "    \n",
    "    c_ops = [B*(1-s)*c(0)/2,B*s*c(0).dag()/2,B*(1-s)*phase2*c(1)/2,B*s*phase1*c(1).dag()/2]         # Collapse operators affecting only first fermion\n",
    "\n",
    "    time_array = np.linspace(0.0, t_f, t_steps)       # time array for numerical solver\n",
    "    rho_t = mesolve(H, rho_0, time_array, c_ops)\n",
    "    \n",
    "    neg = []\n",
    "    for state in rho_t.states:\n",
    "        neg.append(E_N_by_L(state,AB,A))\n",
    "    \n",
    "    plt.plot(time_array, neg, label=\"state in = \"+str(np.real(V[in_state].dag().full())));\n",
    "    plt.xlabel('t');\n",
    "    plt.ylabel(r'$E_N/L$');\n",
    "    plt.legend();\n",
    "    \n",
    "    if disp == 1:\n",
    "        np.set_printoptions(precision=2)\n",
    "        print(\"The initial state is:\")\n",
    "        print(np.around(rho_t.states[0], decimals=1))\n",
    "        print(\"The final state is:\")\n",
    "        print(np.around(rho_t.states[len(rho_t.states)-1], decimals=2))\n",
    "        print(\"Final (log) negativity:\"+str(neg[len(neg)-1]))\n",
    "        print(\"Final negativity:\"+str((2**neg[len(neg)-1]-1)/2))\n",
    "\n",
    "# warnings.filterwarnings('ignore')\n",
    "interact(negativity, w=widgets.FloatSlider(value=1,min=-5,max=5,step=0.1), g=widgets.FloatSlider(value=1,min=-5,max=5,step=0.1),s=widgets.FloatSlider(value=0,min=0,max=1,step=0.1),B=widgets.FloatSlider(value=1,min=0,max=5,step=0.1),t_f=widgets.FloatSlider(value=50,min=1,max=1000,step=0.1),t_steps=widgets.IntSlider(value=500,min=10,max=1000,step=10),in_state=widgets.IntSlider(value=2**L,min=0,max=4**L-1,step=1),disp=widgets.IntSlider(value=1,min=0,max=1,step=1));"
   ]
  },
  {
   "cell_type": "code",
   "execution_count": null,
   "metadata": {},
   "outputs": [],
   "source": []
  }
 ],
 "metadata": {
  "kernelspec": {
   "display_name": "Python 3",
   "language": "python",
   "name": "python3"
  },
  "language_info": {
   "codemirror_mode": {
    "name": "ipython",
    "version": 3
   },
   "file_extension": ".py",
   "mimetype": "text/x-python",
   "name": "python",
   "nbconvert_exporter": "python",
   "pygments_lexer": "ipython3",
   "version": "3.8.5"
  }
 },
 "nbformat": 4,
 "nbformat_minor": 4
}
