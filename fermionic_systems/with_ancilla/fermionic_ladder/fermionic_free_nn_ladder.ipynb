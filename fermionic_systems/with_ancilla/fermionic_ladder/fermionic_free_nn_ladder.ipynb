{
 "cells": [
  {
   "cell_type": "markdown",
   "metadata": {},
   "source": [
    "\n",
    "# Free spinless fermions in a ladder with nearest-neightbour interactions: <br/> dissipative entanglement dynamics\n",
    "\n",
    "\n",
    "\n",
    "\n",
    "## 1. Theory\n",
    "\n",
    "This quantum many body toy model constitutes a first stab at the problem of entanglement dynamics, in particular in the frame of open systems. Consider two fermionic rings with nearest-neightbour interaction ($J_i$) coupled to each other via a nearest-neightbour interaction ($\\lambda$)."
   ]
  },
  {
   "cell_type": "markdown",
   "metadata": {},
   "source": [
    "<img src=\"tambor_fermionico.jpg\" width=\"500\" height=\"500\" >"
   ]
  },
  {
   "cell_type": "markdown",
   "metadata": {},
   "source": [
    "The Hamiltonian is naturally given by\n",
    "$$\n",
    "H = J_A \\sum_{j=1}^L(c^\\dagger_{j,A} c_{j+1,A}+h.c.)+ J_B \\sum_{j=1}^L(c^\\dagger_{j,B} c_{j+1,B}+h.c.)+\\lambda\\sum_{j=1}^L(c^\\dagger_{j,A} c_{j,B}+h.c.),\n",
    "$$\n",
    "where $c_{i,\\alpha}^\\dagger$ and $c_{i,\\alpha}$ create and annhilate a spinless fermion at the $i$-th site of ring $\\alpha$, respectively.\n",
    "We are interested in studying the entanglement dynamics as half of the chain is inmmersed in a bath (i.e. in contact with the exterior). We thus named the top ring $A$ and the bottom ring $B$ which we will surmerge in the bath. We will study the entanglement dynamics between two subdivisions of $A = A_1 \\cup A_2$ as $B$ is bathed at time $t=0$. For this we will calculate the (logarithmic) entanglement negativity $\\mathcal{N}(t)$ between $A_1$ and $A_2$ which we remind the reader is given by \n",
    "$$\n",
    "\\mathcal{N}(t)\\equiv \\mathcal{N}[\\rho_{A}(t)] =  \\log_2 ||\\rho_{A}^{\\Gamma_{A_1}}(t)||_1,\n",
    "$$\n",
    "where $\\rho_{A}(t) = \\text{Tr}_B \\rho (t)$, the density matrix describing subsystem $A$ and $\\rho_A(t)^{\\Gamma_{A_1}}$ is the partial transposition of $\\rho_A(t)$ wrt subsystem $A_1$.\n",
    "\n",
    "Naturally, one exploits the translational symmetries of the rings to cast $H$ in a diagonal form:\n",
    "$$\n",
    "H = \\sum_{k=1}^{2L} \\epsilon_k f^\\dagger_k f_k \\quad \\text{with} \\quad \\epsilon_k = \\begin{cases} \n",
    "      2J\\cos(2 \\pi k/L)+ \\lambda  &  1 \\leq k \\leq L \\\\\n",
    "      2J\\cos(2 \\pi k/L)- \\lambda & L+1 \\leq k \\leq 2L  \n",
    "   \\end{cases} \n",
    "$$\n",
    "where\n",
    "$$\n",
    "c_{j,A} = \\frac{1}{\\sqrt{2L}}\\sum^L_{k=1} e^{-ijk2\\pi/L}(f_k + f_{k+L}) \\iff f_k = \\frac{1}{\\sqrt{2L}}\\sum^L_{k=1} e^{ijk2\\pi/L}(c_{j,B} + c_{j,B}) \\\\\n",
    "c_{j,B} = \\frac{1}{\\sqrt{2L}}\\sum^L_{k=1} e^{-ijk2\\pi/L}(f_k - f_{k+L}) \\iff f_{k+L} = \\frac{1}{\\sqrt{2L}}\\sum^L_{k=1} e^{ijk2\\pi/L}(c_{j,A} - c_{j,B})\n",
    "$$\n",
    "and their hermitian conjugated siblings."
   ]
  },
  {
   "cell_type": "markdown",
   "metadata": {},
   "source": [
    "## 2. Numerical verification\n",
    "\n",
    "Before jumping straight into the main calculations, lets verify that we have diagonalised correctly $H$ and plot its spectrum. In the thermodynamic limit, $L\\rightarrow \\infty \\implies k/L\\in [0,2]$, i.e. the spectrum is continuous with $\\sigma \\doteq k/L$:\n",
    "$$\n",
    "\\epsilon(\\sigma) = \\begin{cases} \n",
    "      2J\\cos(2 \\pi \\sigma)+ \\lambda  &  0 < \\sigma \\leq 1 \\\\\n",
    "      2J\\cos(2 \\pi \\sigma)- \\lambda & 1 < \\sigma \\leq 2 \n",
    "   \\end{cases} \n",
    "$$"
   ]
  },
  {
   "cell_type": "code",
   "execution_count": 1,
   "metadata": {},
   "outputs": [
    {
     "data": {
      "application/vnd.jupyter.widget-view+json": {
       "model_id": "2d6ee6b734744eec86fe381ac5082145",
       "version_major": 2,
       "version_minor": 0
      },
      "text/plain": [
       "interactive(children=(FloatSlider(value=1.0, description='J', max=5.0, step=0.5), FloatSlider(value=2.0, descr…"
      ]
     },
     "metadata": {},
     "output_type": "display_data"
    }
   ],
   "source": [
    "import ipywidgets as widgets\n",
    "from ipywidgets import interact, interactive, fixed, interact_manual\n",
    "import matplotlib.pyplot as plt\n",
    "import numpy as np\n",
    "\n",
    "def spectrum(J,lamb):\n",
    "    k_1 = np.arange(0,1,0.001)\n",
    "    k_2 = np.arange(1,2,0.001)\n",
    "    E_1 = 2*J*np.cos(2*np.pi*k_1) + lamb\n",
    "    E_2 = 2*J*np.cos(2*np.pi*k_2) - lamb\n",
    "    plt.plot(k_1, E_1)\n",
    "    plt.plot(k_2, E_2)\n",
    "    plt.xlabel('k')\n",
    "    plt.ylabel('E(k)')\n",
    "\n",
    "interact(spectrum, J=widgets.FloatSlider(value=1,min=0,max=5,step=0.5), lamb = widgets.FloatSlider(value=2,min=0,max=5.0,step=0.5));"
   ]
  },
  {
   "cell_type": "markdown",
   "metadata": {},
   "source": [
    "And now for the numerical solution using `QuTip` for a system with rings of finite size."
   ]
  },
  {
   "cell_type": "code",
   "execution_count": 2,
   "metadata": {},
   "outputs": [],
   "source": [
    "from IPython.display import Image\n",
    "from qutip import *\n",
    "import numpy as np\n",
    "from numpy import linalg as LA\n",
    "import matplotlib.pyplot as plt\n",
    "\n",
    "L =  1000\n",
    "J = 1\n",
    "lamb = 4"
   ]
  },
  {
   "cell_type": "markdown",
   "metadata": {},
   "source": [
    "We first need to define spinless fermion operators $c_i, c^\\dagger_i$ to define $H$. Now, instead of working with a Hilbert space of two rings tensored together $\\mathcal{H}=\\mathcal{H}_A\\otimes\\mathcal{H}_B$ we will for simplicity just work with a large enough Hilbert space $\\dim \\mathcal{H} = 2^{2L}$ and fit one chain after the other matching the interactions as required by $H$."
   ]
  },
  {
   "cell_type": "code",
   "execution_count": 14,
   "metadata": {},
   "outputs": [],
   "source": [
    "def id():\n",
    "    op_list = []\n",
    "    for i in range(2*L):\n",
    "        op_list.append(qeye(2))\n",
    "    op = Qobj(tensor(op_list))\n",
    "    return op\n",
    "\n",
    "def sigma_z(k):\n",
    "    op_list = []\n",
    "    if k<=2*L-1 and k>=0:\n",
    "        for i in range(2*L):\n",
    "            if i==k:\n",
    "                op_list.append(sigmaz())\n",
    "            else:\n",
    "                op_list.append(qeye(2))\n",
    "        op = Qobj(tensor(op_list))\n",
    "        return op\n",
    "\n",
    "    else:\n",
    "        raise ValueError(\"Index out of range: Operator sigma_z_\"+str(k)+\" may not be casted in a system with \"+str(2*L)+\" spins. By convention first spin is labeled as 0.\")\n",
    "\n",
    "def c(k):\n",
    "    if k<=2*L-1 and k>=0:\n",
    "        op_list = []\n",
    "        for i in range(2*L):\n",
    "            if i==k:\n",
    "                op_list.append(destroy(2))\n",
    "            else:\n",
    "                op_list.append(qeye(2))\n",
    "        aux = Qobj(tensor(op_list))\n",
    "        phase = Qobj(tensor([qeye(2)]*(2*L)))\n",
    "        for i in range(0,k):\n",
    "            phase = phase*sigma_z(i)\n",
    "        op = phase*aux\n",
    "        return op\n",
    "\n",
    "    else:\n",
    "        raise ValueError(\"Index out of range: Operator c_\"+str(k)+\" may not be casted in a system with \"+str(2*L)+\" spins. By convention first spin is labeled as 0.\")"
   ]
  },
  {
   "cell_type": "markdown",
   "metadata": {},
   "source": [
    "Defining $H$:"
   ]
  },
  {
   "cell_type": "code",
   "execution_count": 4,
   "metadata": {},
   "outputs": [],
   "source": [
    "h = np.zeros((2*L,2*L))              #note the 2*L\n",
    "for i in range(2*L):\n",
    "    if i!=L-1 and i!=2*L-1:          #hopping term\n",
    "        h[i,i+1]=J\n",
    "    if i<L:                          #interaction term\n",
    "        h[i,i+L]=lamb\n",
    "    if i==L-1:                       #periodic bc in ring B\n",
    "        h[i,0]=J\n",
    "    if i==2*L-1:                     #periodic bc in ring A\n",
    "        h[i,L]=J\n",
    "h += h.T                             #fill remaining diagonal\n",
    "\n",
    "# hinton(Qobj(h));                   #for visualing the matrix"
   ]
  },
  {
   "cell_type": "markdown",
   "metadata": {},
   "source": [
    "Which in the fermionic operator basis (above fig.) has the following spectrum:"
   ]
  },
  {
   "cell_type": "code",
   "execution_count": 5,
   "metadata": {},
   "outputs": [
    {
     "data": {
      "image/png": "[encoded data removed]",
      "text/plain": [
       "<Figure size 432x288 with 1 Axes>"
      ]
     },
     "metadata": {
      "needs_background": "light"
     },
     "output_type": "display_data"
    }
   ],
   "source": [
    "eigenvals = LA.eigvalsh(h)\n",
    "\n",
    "ordered_e = []                          #reordering eigenvalues to match anaytical result\n",
    "for i in reversed(range(L//2,L)):\n",
    "    ordered_e.append(eigenvals[2*i])\n",
    "for i in range(L//2,L):\n",
    "    ordered_e.append(eigenvals[2*i+1])\n",
    "for i in reversed(range(L//2)):\n",
    "    ordered_e.append(eigenvals[2*i])\n",
    "for i in range(L//2):\n",
    "    ordered_e.append(eigenvals[2*i+1])\n",
    "    \n",
    "k = [2*i/len(eigenvals) for i in range(len(eigenvals))]  #plotting them\n",
    "plt.scatter(k, ordered_e,s=0.5);\n",
    "plt.xlabel('k');\n",
    "plt.ylabel('E(k)');"
   ]
  },
  {
   "cell_type": "markdown",
   "metadata": {},
   "source": [
    "Which is identical to the analytical plot for 2000 fermions. Let's reduce $L$ back to a computable system size and cast $H$ into a `QuTiP` object in the computational basis. We find the spectrum and eigenstates of $H$ for latter combinience"
   ]
  },
  {
   "cell_type": "code",
   "execution_count": 6,
   "metadata": {},
   "outputs": [],
   "source": [
    "L = 2\n",
    "\n",
    "h = np.zeros((2*L,2*L))              #note the 2*L\n",
    "for i in range(2*L):\n",
    "    if i!=L-1 and i!=2*L-1:          #hopping term\n",
    "        h[i,i+1]=J\n",
    "    if i<L:                          #interaction term\n",
    "        h[i,i+L]=lamb\n",
    "    if i==L-1:                       #periodic bc in ring B\n",
    "        h[i,0]=J\n",
    "    if i==2*L-1:                     #periodic bc in ring A\n",
    "        h[i,L]=J\n",
    "h += h.T                             #fill remaining diagonal\n",
    "\n",
    "H = Qobj(tensor([Qobj(np.zeros((2,2)))]*(2*L)))   #define H as a qutip obj.\n",
    "\n",
    "for i in range(2*L):                              \n",
    "    for j in range(2*L):\n",
    "        H += h[i,j]*c(i).dag()*c(j)                                  \n",
    "\n",
    "E,V = H.eigenstates()                #solve for H's eigensystem"
   ]
  },
  {
   "cell_type": "markdown",
   "metadata": {},
   "source": [
    "Let's introduce now some dissipation into the model: we will bath ring $B$, that is, the ring that in `Python` goes from position `0` to position `L-1`. For this we will deploy the Lindbland equation \n",
    "$$\n",
    "{\\displaystyle {\\dot {\\rho}(t)}=-{i \\over \\hbar }[H,\\rho(t) ]+\\sum _{i=1}^{N^{2}-1}\\gamma _{i}\\left(L_{i}\\rho(t) L_{i}^{\\dagger }-{\\frac {1}{2}}\\left\\{L_{i}^{\\dagger }L_{i},\\rho(t) \\right\\}\\right),}\n",
    "$$\n",
    "where $\\gamma_i$ is some system-bath coupling constant and $L_i, L_i^\\dagger$ are the so called collapse operators and are in someway the action of the bath on the system (for a more detailed definition of $L_i, L_i^\\dagger$ see the standard literature). We will use the above equation in an axiomatic manner, that is, we will use it as if it is an universal true axiom for the description of open quantum systems (of course it is not) and define at will what  $H, L_i, L_i^\\dagger$ and $\\gamma_i$ are.\n",
    "\n",
    "Thus, we _define_ $H$ to be our previous Hamiltonian and\n",
    "$$\n",
    "L_i = \\sqrt{\\Gamma_d} c_i \\quad L_i^\\dagger = \\sqrt{\\Gamma_u} c_i^\\dagger \\quad  \\text{with} \\quad 1\\leq i \\leq L\n",
    "$$\n",
    "the square root in the constants $\\sqrt{\\Gamma_d},\\sqrt{\\Gamma_u}$ is for latter convinience. We define those in `Python` and store them into the `c_ops` `list` for \"collapse operator\":"
   ]
  },
  {
   "cell_type": "code",
   "execution_count": 7,
   "metadata": {},
   "outputs": [],
   "source": [
    "gamma_u = 0\n",
    "gamma_d = 1\n",
    "\n",
    "c_ops = []\n",
    "for i in range(L):\n",
    "    c_ops.append(np.sqrt(gamma_d)*c(i))\n",
    "    c_ops.append(np.sqrt(gamma_u)*c(i).dag())"
   ]
  },
  {
   "cell_type": "markdown",
   "metadata": {},
   "source": [
    "Lets compute what happens to the **total** population at ring $B$ of an initial eigenstate $\\rho_0 = |\\psi_i\\rangle \\langle \\psi_i |$ as we submerge ring $B$ in the above defined bath via $L_i,L_i^\\dagger$:"
   ]
  },
  {
   "cell_type": "code",
   "execution_count": 8,
   "metadata": {
    "scrolled": true
   },
   "outputs": [
    {
     "data": {
      "image/png": "[encoded data removed]",
      "text/plain": [
       "<Figure size 432x288 with 1 Axes>"
      ]
     },
     "metadata": {
      "needs_background": "light"
     },
     "output_type": "display_data"
    }
   ],
   "source": [
    "rho_0 = V[len(V)//2]*V[len(V)//2].dag()              #chose middle lying eigenstate\n",
    "\n",
    "n_B = Qobj(tensor([Qobj(np.zeros((2,2)))]*(2*L)))    #total ring B number op\n",
    "for i in range(L):\n",
    "    n_B += c(i).dag()*c(i)\n",
    "\n",
    "n_A =  Qobj(tensor([Qobj(np.zeros((2,2)))]*(2*L)))   #total ring A number op\n",
    "for i in range(L,2*L):\n",
    "    n_A += c(i).dag()*c(i)\n",
    "\n",
    "time_array = np.linspace(0.0, 10.0, 100)             #time array for numerical solver\n",
    "rho_t = mesolve(H, rho_0, time_array, c_ops, [n_B,n_A])\n",
    "\n",
    "plt.plot(time_array, rho_t.expect[0],label=r'$N^B_T$');\n",
    "plt.plot(time_array, rho_t.expect[1],label=r'$N^A_T$');\n",
    "plt.xlabel('t');\n",
    "plt.ylabel(r'$N$');\n",
    "plt.legend();"
   ]
  },
  {
   "cell_type": "markdown",
   "metadata": {},
   "source": [
    "As seen above, the population in the unbathed ring $A$ is eventually influenced by the bathed ring $B$ facing eventually the same destiny. What if the initial state is simply one single fermion in bathed ring $B$:"
   ]
  },
  {
   "cell_type": "code",
   "execution_count": 9,
   "metadata": {
    "scrolled": true
   },
   "outputs": [
    {
     "name": "stderr",
     "output_type": "stream",
     "text": [
      "/home/alex/anaconda3/lib/python3.8/site-packages/numpy/core/fromnumeric.py:87: VisibleDeprecationWarning: Creating an ndarray from ragged nested sequences (which is a list-or-tuple of lists-or-tuples-or ndarrays with different lengths or shapes) is deprecated. If you meant to do this, you must specify 'dtype=object' when creating the ndarray\n",
      "  return ufunc.reduce(obj, axis, dtype, out, **passkwargs)\n"
     ]
    },
    {
     "data": {
      "image/png": "[encoded data removed]",
      "text/plain": [
       "<Figure size 432x288 with 1 Axes>"
      ]
     },
     "metadata": {
      "needs_background": "light"
     },
     "output_type": "display_data"
    }
   ],
   "source": [
    "vac = Qobj(basis((2*L)**2,0), dims = [[2]*2*L,[1]], shape = (4**L,1))    #vacuum state\n",
    "\n",
    "rho_0 =  c(0).dag()*vac*vac.dag()*c(0)                                   #one single fermion in ring B                    \n",
    "\n",
    "n_B = Qobj(tensor([Qobj(np.zeros((2,2)))]*(2*L)))                        #total ring B number op\n",
    "for i in range(L):\n",
    "    n_B += c(i).dag()*c(i)\n",
    "\n",
    "n_A =  Qobj(tensor([Qobj(np.zeros((2,2)))]*(2*L)))                       #total ring A number op\n",
    "for i in range(L,2*L):\n",
    "    n_A += c(i).dag()*c(i)\n",
    "\n",
    "time_array = np.linspace(0.0, 10.0, 100)                                 #time array for numerical solver\n",
    "rho_t = mesolve(H, rho_0, time_array, c_ops, [n_B,n_A])\n",
    "\n",
    "plt.plot(time_array, rho_t.expect[0],label=r'$N^B_T$');\n",
    "plt.plot(time_array, rho_t.expect[1],label=r'$N^A_T$');\n",
    "plt.xlabel('t');\n",
    "plt.ylabel(r'$N$');\n",
    "plt.legend();"
   ]
  },
  {
   "cell_type": "markdown",
   "metadata": {},
   "source": [
    "What if the initial state is simply one single fermion in unbathed ring $A$:"
   ]
  },
  {
   "cell_type": "code",
   "execution_count": 10,
   "metadata": {
    "scrolled": false
   },
   "outputs": [
    {
     "data": {
      "image/png": "[encoded data removed]",
      "text/plain": [
       "<Figure size 432x288 with 1 Axes>"
      ]
     },
     "metadata": {
      "needs_background": "light"
     },
     "output_type": "display_data"
    }
   ],
   "source": [
    "rho_0 =  c(L).dag()*vac*vac.dag()*c(L)                        #one single fermion in ring A                                           \n",
    "\n",
    "time_array = np.linspace(0.0, 10.0, 100)              \n",
    "#time array for numerical solver\n",
    "rho_t = mesolve(H, rho_0, time_array, c_ops, [n_B,n_A])\n",
    "\n",
    "plt.plot(time_array, rho_t.expect[0]);\n",
    "plt.plot(time_array, rho_t.expect[1]);\n",
    "plt.xlabel('t');\n",
    "plt.ylabel(r'$N$');"
   ]
  },
  {
   "cell_type": "markdown",
   "metadata": {},
   "source": [
    "## 3. Solving the Lindbland equation analytically\n",
    "\n",
    "The aim of this section is to solve the Lindbland equation for our previous system of two rings, one coupled to a bath. This is in principle a doable task as in the diagonal basis the problem is dual to a fully bathed system:\n",
    "\n",
    "<ins>**Proof:**</ins> \n",
    "The proof is trivial now that we managed to diagonalise $H$. Recall that $H$ was\n",
    "$$\n",
    "H = J_A \\sum_{j=1}^L(c^\\dagger_{j,A} c_{j+1,A}+h.c.)+ J_B \\sum_{j=1}^L(c^\\dagger_{j,B} c_{j+1,B}+h.c.)+\\lambda\\sum_{j=1}^L(c^\\dagger_{j,A} c_{j,B}+h.c.),\n",
    "$$\n",
    "but we found\n",
    "$$\n",
    "H = \\sum_{k=1}^{2L} \\epsilon_k f^\\dagger_k f_k \\quad \\text{with} \\quad \\epsilon_k = \\begin{cases} \n",
    "      2J\\cos(2 \\pi k/L)+ \\lambda  &  1 \\leq k \\leq L \\\\\n",
    "      2J\\cos(2 \\pi k/L)- \\lambda & L+1 \\leq k \\leq 2L  \n",
    "   \\end{cases} \n",
    "$$\n",
    "where\n",
    "$$\n",
    "c_{j,A} = \\frac{1}{\\sqrt{2L}}\\sum^L_{k=1} e^{-ijk2\\pi/L}(f_k + f_{k+L}) \\iff f_k = \\frac{1}{\\sqrt{2L}}\\sum^L_{j=1} e^{ijk2\\pi/L}(c_{j,A} + c_{j,B}) \\quad (1 \\leq k \\leq L)\\\\\n",
    "c_{j,B} = \\frac{1}{\\sqrt{2L}}\\sum^L_{k=1} e^{-ijk2\\pi/L}(f_k - f_{k+L}) \\iff f_{k+L} = \\frac{1}{\\sqrt{2L}}\\sum^L_{j=1} e^{ijk2\\pi/L}(c_{j,A} - c_{j,B}) \\quad (1 \\leq k \\leq L)\n",
    "$$\n",
    "so the collapse operators\n",
    "$$\n",
    "L_j = \\sqrt{\\Gamma_d} c_j \\quad L_j^\\dagger = \\sqrt{\\Gamma_u} c_j^\\dagger \\quad  \\text{with} \\quad 1\\leq j \\leq L \n",
    "$$\n",
    " now read\n",
    "$$\n",
    " L_j = \\sqrt{ \\frac{\\Gamma_d}{2L}}\\sum^L_{k=1} e^{-ijk2\\pi/L}(f_k + f_{k+L})= \\sqrt{ \\frac{\\Gamma_d}{2L}}\\sum^{2L}_{k=1} e^{-ijk2\\pi/L}f_k \\quad  \\text{with} \\quad 1\\leq j \\leq L \\\\ \\quad L_j^\\dagger = \\sqrt{ \\frac{\\Gamma_u}{2L}}\\sum^L_{k=1} e^{ijk2\\pi/L}(f_k^\\dagger + f_{k+L}^\\dagger) = \\sqrt{ \\frac{\\Gamma_u}{2L}}\\sum^{2L}_{k=1} e^{ijk2\\pi/L}f_k^\\dagger  \\quad  \\text{with} \\quad 1\\leq j \\leq L.\n",
    "$$\n",
    "Hence, the Lindbland equation (we've included the constants $\\gamma_j$ inside the $L_j$'s)\n",
    "$$\n",
    "{\\displaystyle {\\dot {\\rho}(t)}=-{i }[H,\\rho(t) ]+\\sum _{j=1}^{N^{2}-1}\\gamma _{j}\\left(L_{j}\\rho(t) L_{j}^{\\dagger }-{\\frac {1}{2}}\\left\\{L_{j}^{\\dagger }L_{j},\\rho(t) \\right\\}\\right),}\n",
    "$$\n",
    "is now\n",
    "$$\n",
    "{\\displaystyle {\\dot {\\rho}(t)}=-{i  }\\left[\\sum_k^{2L}E_k f^\\dagger_k f_k,\\rho(t) \\right]+\\sum _{j=1}^{L}\\sum^{2L}_{k=1}\\sum^{2L}_{k'=1}\\frac{\\Gamma_d}{2L} e^{-ij(k-k')2\\pi/L} \\left(f_k\\rho(t) f_{k'}^{\\dagger }-{\\frac {1}{2}}\\left\\{f_{k'}^{\\dagger }f_k,\\rho(t) \\right\\}\\right)} \\\\ + \\sum _{j=1}^{L}\\sum^{2L}_{k=1}\\sum^{2L}_{k'=1}\\frac{\\Gamma_u}{2L} e^{-ij(k-k')2\\pi/L} \\left( f_{k'}^{\\dagger }\\rho(t) f_k-{\\frac {1}{2}}\\left\\{f_k f_{k'}^{\\dagger },\\rho(t) \\right\\}\\right)\n",
    "$$\n",
    "by integrating out the $j$ sum one drops a $\\delta_{k,k'}$ which in turn allows to integrate out the $k'$ sum trivially. One is left with\n",
    "$$\n",
    "{\\displaystyle {\\dot {\\rho}(t)}=-{i}\\left[\\sum_k^{2L}E_k f^\\dagger_k f_k,\\rho(t) \\right]+\\sum^{2L}_{k=1}\\frac{\\Gamma_d}{2} \\left(f_k\\rho(t) f_{k}^{\\dagger }-{\\frac {1}{2}}\\left\\{f_{k}^{\\dagger }f_k,\\rho(t) \\right\\}\\right)} + \\sum^{2L}_{k=1}\\frac{\\Gamma_u}{2} \\left(f_k^{\\dagger }\\rho(t) f_k-{\\frac {1}{2}}\\left\\{f_k f_k^{\\dagger },\\rho(t) \\right\\}\\right) \\quad \\text{Q.E.D}\n",
    "$$\n",
    "which is dual to a fully bathed free fermionic system with $2L$ fermions with half the bath strength. \n",
    "\n",
    "<ins>**Solution:**</ins> \n",
    "From Prosen's technology we know that if $\\Gamma_u = \\Gamma_d = \\Gamma$ the density matrix $\\rho$ in the diagonal basis $\\{f_j\\}$ evolves in time according to \n",
    "$$\n",
    "\\rho(t)=\\frac{1}{4^{L}} \\prod^{2L}_{k=1} \\left[1+(-1)^{\\alpha_k}e^{-\\beta t}(1-2 f_k^\\dagger f_k)\\right],\n",
    "$$\n",
    "whenever the initial state $\\rho(t_0)$ is an eigenstate of $H$ where the set $\\{\\alpha_k \\in\\{0,1\\} \\}$ indicate which initial eigenstate $\\rho(t_0)$ is and $\\beta$ depends on $\\Gamma$. \n",
    "\n",
    "If we cast $\\rho(t)$ in the computational basis (occupation basis) associated to the $\\{f_k\\}$ operator one represents $\\rho(t)$ as\n",
    "$$\n",
    "\\begin{align}\n",
    "\\rho(t)=&\\frac{1}{4^{L}} \\sum_{a_1,\\cdots,a_{2L}=0}^1 |a_1, \\cdots, a_{2L} \\rangle \\langle a_1, \\cdots, a_{2L} | \\prod^{2L}_{k=1} \\left[1+(-1)^{\\alpha_k}e^{-\\beta t}(1-2 f_k^\\dagger f_k)\\right]  \\sum_{b_1,\\cdots,b_{2L}=0}^1 |b_1, \\cdots, b_{2L} \\rangle \\langle b_1, \\cdots, b_{2L} | \\\\\n",
    "=&\\frac{1}{4^{L}} \\sum_{a_1,\\cdots,a_{2L}=0}^1  \\sum_{b_1,\\cdots,b_{2L}=0}^1  |a_1, \\cdots, a_{2L} \\rangle \\langle a_1, \\cdots, a_{2L} | \\prod^{2L}_{k=1} \\left[1+(-1)^{\\alpha_k}e^{-\\beta t}(1-2 f_k^\\dagger f_k)\\right] |b_1, \\cdots, b_{2L} \\rangle \\langle b_1, \\cdots, b_{2L} | \\\\\n",
    "=&\\frac{1}{4^{L}} \\sum_{a_1,\\cdots,a_{2L}=0}^1  \\sum_{b_1,\\cdots,b_{2L}=0}^1  |a_1, \\cdots, a_{2L} \\rangle \\langle a_1, \\cdots, a_{2L} |\\prod^{2L}_{k=1} \\left[1+(-1)^{\\alpha_k}e^{-\\beta t}(1-2 b_k)\\right] |b_1, \\cdots, b_{2L} \\rangle \\langle b_1, \\cdots, b_{2L} | \\\\\n",
    "=&\\frac{1}{4^{L}} \\sum_{a_1,\\cdots,a_{2L}=0}^1  \\underbrace{\\prod^{2L}_{k=1} \\left[1+(-1)^{\\alpha_k}e^{-\\beta t}(1-2 a_k)\\right]} |a_1, \\cdots, a_{2L} \\rangle \\langle a_1, \\cdots, a_{2L} |  \\\\\n",
    "\\doteq& \\sum_{a_1,\\cdots,a_{2L}=0}^1  \\eta\\Big(t,\\beta,(\\alpha_1,\\cdots,\\alpha_{2L}),(a_1,\\cdots,a_{2L})\\Big)|a_1, \\cdots, a_{2L} \\rangle \\langle a_1, \\cdots, a_{2L} |  \\\\\n",
    "\\equiv& \\sum_{a_1,\\cdots,a_{2L}=0}^1  \\eta\\Big(t,\\beta,(\\alpha_1,\\cdots,\\alpha_{2L}),(a_1,\\cdots,a_{2L})\\Big) \\prod_{k=1}^{2L}(f_k^\\dagger)^{a_k}|0\\rangle \\langle 0| \\prod_{p=1}^{2L}(f_p)^{a_p}\n",
    "\\end{align}\n",
    "$$\n",
    "As a numerical check for these steps we offer:\n",
    "<!-- $$\n",
    "\\begin{align}\n",
    "\\\\ \\equiv& \\frac{1}{4^{L}} \\bigotimes^{2L}_{k=1} \\sum_{a=0}^1 \\sum_{b=0}^1|a \\rangle_k \\langle a|_k \\left[1+(-1)^{\\alpha_k}e^{-\\beta t}(1-2 f_k^\\dagger f_k)\\right] |b \\rangle_k \\langle b|_k\n",
    "\\\\ =& \\frac{1}{4^{L}} \\bigotimes^{2L}_{k=1} \\sum_{a_k=0}^1 \\sum_{b_k=0}^1|a_k \\rangle \\langle a_k| |b_k \\rangle \\langle b_k|\\left[1+(-1)^{\\alpha_k}e^{-\\beta t}(1-2 b_k)\\right] \n",
    "\\\\ =& \\frac{1}{4^{L}} \\bigotimes^{2L}_{k=1} \\sum_{a_k=0}^1 |a_k \\rangle \\langle a_k|\\left[1+(-1)^{\\alpha_k}e^{-\\beta t}(1-2 a_k)\\right] \n",
    "\\\\ =& \\frac{1}{4^{L}} \\bigotimes^{2L}_{k=1} \\Big[(1+(-1)^{\\alpha_k}e^{-\\beta t})|0 \\rangle \\langle 0| + (1-(-1)^{\\alpha_k}e^{-\\beta t})|1 \\rangle \\langle 1|\\Big] \n",
    "\\end{align}.\n",
    "$$ -->"
   ]
  },
  {
   "cell_type": "code",
   "execution_count": 11,
   "metadata": {},
   "outputs": [
    {
     "name": "stdout",
     "output_type": "stream",
     "text": [
      "Quantum object: dims = [[2, 2], [2, 2]], shape = (4, 4), type = oper, isherm = True\n",
      "Qobj data =\n",
      "[[0.24862086 0.         0.         0.        ]\n",
      " [0.         0.21424235 0.         0.        ]\n",
      " [0.         0.         0.28851593 0.        ]\n",
      " [0.         0.         0.         0.24862086]]\n"
     ]
    }
   ],
   "source": [
    "L=1\n",
    "Gamma_u = 13\n",
    "alpha= [1,0]\n",
    "t = 0.1\n",
    "rho = id()\n",
    "for k in range(2*L):\n",
    "    rho = rho*(1+(-1)**alpha[k]*np.exp(-2*Gamma_u*t)*(1-2*c(k).dag()*c(k)))\n",
    "print(rho/(4**L))"
   ]
  },
  {
   "cell_type": "code",
   "execution_count": 12,
   "metadata": {
    "scrolled": false
   },
   "outputs": [
    {
     "name": "stdout",
     "output_type": "stream",
     "text": [
      "Quantum object: dims = [[2, 2], [2, 2]], shape = (4, 4), type = oper, isherm = True\n",
      "Qobj data =\n",
      "[[0.24862086 0.         0.         0.        ]\n",
      " [0.         0.21424235 0.         0.        ]\n",
      " [0.         0.         0.28851593 0.        ]\n",
      " [0.         0.         0.         0.24862086]]\n"
     ]
    }
   ],
   "source": [
    "a = ket(\"00\")*ket(\"00\").dag()*(1+(-1)**1*np.exp(-2*Gamma_u*t)*(1-2*0))*(1+(-1)**0*np.exp(-2*Gamma_u*t)*(1-2*0))\n",
    "b = ket(\"01\")*ket(\"01\").dag()*(1+(-1)**1*np.exp(-2*Gamma_u*t)*(1-2*0))*(1+(-1)**0*np.exp(-2*Gamma_u*t)*(1-2*1))\n",
    "c = ket(\"10\")*ket(\"10\").dag()*(1+(-1)**1*np.exp(-2*Gamma_u*t)*(1-2*1))*(1+(-1)**0*np.exp(-2*Gamma_u*t)*(1-2*0))\n",
    "d = ket(\"11\")*ket(\"11\").dag()*(1+(-1)**1*np.exp(-2*Gamma_u*t)*(1-2*1))*(1+(-1)**0*np.exp(-2*Gamma_u*t)*(1-2*1))\n",
    "print((a+b+c+d)/(4**L))"
   ]
  },
  {
   "cell_type": "markdown",
   "metadata": {},
   "source": [
    "Note the following involves `QuTiP`'s Monte Carlo PDE solver so the decimals vary slightly with each run, nevertheless there is a good agreament (different times were tested)."
   ]
  },
  {
   "cell_type": "code",
   "execution_count": 15,
   "metadata": {
    "scrolled": true
   },
   "outputs": [
    {
     "name": "stdout",
     "output_type": "stream",
     "text": [
      "Quantum object: dims = [[2, 2], [2, 2]], shape = (4, 4), type = oper, isherm = True\n",
      "Qobj data =\n",
      "[[0.24854787 0.         0.         0.        ]\n",
      " [0.         0.21334683 0.         0.        ]\n",
      " [0.         0.         0.28955744 0.        ]\n",
      " [0.         0.         0.         0.24854787]]\n"
     ]
    }
   ],
   "source": [
    "lamb_1, lamb_2 = 1,1\n",
    "G = np.sqrt(Gamma_u)\n",
    "vac = Qobj(basis((2*L)**2,0), dims = [[2]*2*L,[1]], shape = (4**L,1)) \n",
    "rho_0 = c(0).dag()*vac\n",
    "H = lamb_1*c(0).dag()*c(0)+lamb_2*c(1).dag()*c(1)\n",
    "time_array = np.linspace(0.0, 10.0, 10000)                                 #time array for numerical solver\n",
    "rho_t = mesolve(H, rho_0, time_array, [G*c(0),G*c(0).dag(),G*c(1),G*c(1).dag()])\n",
    "\n",
    "print(rho_t.states[99])"
   ]
  },
  {
   "cell_type": "markdown",
   "metadata": {},
   "source": [
    "Say now we are interested in the entanglement dynamics between subsystem $A$ and subsystem $B$, then we need to take the partial transpose of $\\rho(t)$ w.r.t either of the two subsystems. But for this we need to cast $\\rho(t)$ in the computational basis associated with the original $\\{c_k\\}$. Note that\n",
    "$$\n",
    "|0_1,\\cdots,1_k,\\cdots,0_{2L}\\rangle_f \\doteq f_k^\\dagger|0\\rangle \\equiv \\frac{1}{\\sqrt{2L}}\\sum^L_{j=1} e^{-ijk2\\pi/L}(c_{j,A}^\\dagger + c_{j,B}^\\dagger) |0\\rangle \\quad \\text{whenever} \\quad 1\\leq k \\leq L \\\\\n",
    "|0_1,\\cdots,1_{k},\\cdots,0_{2L}\\rangle_f \\doteq f_k^\\dagger|0\\rangle \\equiv \\frac{1}{\\sqrt{2L}}\\sum^L_{j=1} e^{-ijk2\\pi/L}(c_{j,A}^\\dagger - c_{j,B}^\\dagger) |0\\rangle \\quad \\text{whenever} \\quad L+1\\leq k \\leq 2L\n",
    "$$\n",
    "or alternatively, \n",
    "$$\n",
    "|0_1,\\cdots,1_k,\\cdots,0_{2L}\\rangle_f \\doteq f_k^\\dagger|0\\rangle \\equiv \\frac{1}{\\sqrt{2L}}\\sum^L_{j=1} e^{-ijk2\\pi/L}(c_{j}^\\dagger + c_{j+L}^\\dagger) |0\\rangle \\quad \\text{whenever} \\quad 1\\leq k \\leq L \\\\\n",
    "|0_1,\\cdots,1_{k},\\cdots,0_{2L}\\rangle_f \\doteq f_k^\\dagger|0\\rangle \\equiv \\frac{1}{\\sqrt{2L}}\\sum^L_{j=1} e^{-ijk2\\pi/L}(c_{j}^\\dagger - c_{j+L}^\\dagger) |0\\rangle \\quad \\text{whenever} \\quad L+1\\leq k \\leq 2L\n",
    "$$\n",
    "either ways $|0_1,\\cdots,1_k,\\cdots,0_{2L}\\rangle_f$ always has the form of a linear combination of states with exacly one $c$-fermion in $A$ or one $c$-fermion in $B$. Consider the following matrix basis element\n",
    "$$\n",
    "\\begin{align}\n",
    "&|0_1,\\cdots,1_p,\\cdots,0_{2L}\\rangle_f  \\langle 0_1,\\cdots,1_q,\\cdots,0_{2L}|_f = \\frac{1}{2L}\\sum^L_{j=1}\\sum^L_{k=1} e^{-ijp2\\pi/L}e^{ikq2\\pi/L}(c_{j}^\\dagger \\pm c_{j+L}^\\dagger) |0\\rangle \\langle0|(c_{k} \\pm c_{k+L}) \\\\\n",
    "=& \\frac{1}{2L}\\sum^L_{j=1}\\sum^L_{k=1} e^{-ijp2\\pi/L}e^{ikq2\\pi/L}(|\\cdots,1_j,\\cdots \\rangle_c \\pm |\\cdots,1_{\n",
    "j+L},\\cdots\\rangle_c) (\\langle \\cdots,1_k,\\cdots |_c \\pm \\langle \\cdots,1_{k+L},\\cdots|_c)\\\\\n",
    "\\sim& (\\cdots)\\Big(|\\cdots,1_j,\\cdots \\rangle_c \\langle \\cdots,1_k,\\cdots |_c + |\\cdots,1_j,\\cdots \\rangle_c\\langle \\cdots,1_{k+L},\\cdots|_c + |\\cdots,1_{\n",
    "j+L},\\cdots\\rangle_c\\langle \\cdots,1_k,\\cdots |_c+|\\cdots,1_{\n",
    "j+L},\\cdots\\rangle_c \\langle \\cdots,1_{k+L},\\cdots|_c\\Big)\\\\\n",
    "\\end{align}\n",
    "$$"
   ]
  },
  {
   "cell_type": "markdown",
   "metadata": {},
   "source": [
    "# Alternative route?\n",
    "\n",
    "In the original $\\{c_j\\}$ basis one would use that\n",
    "$$\n",
    "f_k^\\dagger f_k = \\frac{1}{2L}\\sum^L_{n=1}  \\sum^L_{m=1} e^{-ik(n-m)2\\pi/L}(c_{n,A}^\\dagger + c_{n,B}^\\dagger)(c_{m,A} + c_{m,B})\\quad (1 \\leq k \\leq L) \\\\\n",
    "f_k^\\dagger f_k = \\frac{1}{2L}\\sum^L_{n=1}  \\sum^L_{m=1} e^{-ik(n-m)2\\pi/L}(c_{n,A}^\\dagger - c_{n,B}^\\dagger)(c_{m,A} - c_{m,B})\\quad (L+1 \\leq k \\leq 2L)\n",
    "$$\n",
    "to cast $\\rho(t)$ in the original fermionic basis. However, note that one can formally write $f_k^\\dagger f_k$ as \n",
    "$$\n",
    "f_k^\\dagger f_k = M_{n,m}^k c_n^\\dagger c_m \\quad (1 \\leq k \\leq 2L) \\\\\n",
    "$$\n",
    "for some suitable $M_{n,m}^k$, thus\n",
    "$$\n",
    "\\rho(t)=\\frac{1}{4^{L}} \\prod^{2L}_{k=1} \\left[1+(-1)^{\\alpha_k}e^{-\\beta t}(1-2 M_{n,m}^k c_n^\\dagger c_m )\\right].\n",
    "$$\n",
    "Say now we are interested in the entanglement dynamics between subsystem $A$ and subsystem $B$, then we need to take the partial transpose of $\\rho(t)$ w.r.t either of the two subsystems. For this it is usefull to cast $\\rho(t)$ in the computational basis\n",
    "$$\n",
    "\\rho(t)=\\frac{1}{4^{L}} \\sum_{a} |a\\rangle \\langle a| \\prod^{2L}_{k=1} \\left[1+(-1)^{\\alpha_k}e^{-\\beta t}(1-2 M_{n,m}^k c_n^\\dagger c_m )\\right] \\sum_{b} |b\\rangle \\langle b| \n",
    "$$\n",
    "$$\n",
    "\\rho(t)=\\frac{1}{4^{L}} \\sum_{a} |a\\rangle \\langle a| \\Big\\{ \\left[1+(-1)^{\\alpha_1}e^{-\\beta t}(1-2 M_{n,m}^1 c_n^\\dagger c_m )\\right]\\left[1+(-1)^{\\alpha_2}e^{-\\beta t}(1-2 M_{n,m}^2 c_n^\\dagger c_m )\\right] \\cdots \\Big\\} \\sum_{b} |b\\rangle \\langle b| \n",
    "$$"
   ]
  },
  {
   "cell_type": "code",
   "execution_count": null,
   "metadata": {},
   "outputs": [],
   "source": []
  }
 ],
 "metadata": {
  "kernelspec": {
   "display_name": "Python 3",
   "language": "python",
   "name": "python3"
  },
  "language_info": {
   "codemirror_mode": {
    "name": "ipython",
    "version": 3
   },
   "file_extension": ".py",
   "mimetype": "text/x-python",
   "name": "python",
   "nbconvert_exporter": "python",
   "pygments_lexer": "ipython3",
   "version": "3.8.5"
  }
 },
 "nbformat": 4,
 "nbformat_minor": 4
}
